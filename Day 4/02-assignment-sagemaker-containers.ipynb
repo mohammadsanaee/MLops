{
 "cells": [
  {
   "cell_type": "markdown",
   "id": "147445ff-525c-4d20-8e2a-e6a9ae73ae52",
   "metadata": {},
   "source": [
    "# Assignment 2: use SageMaker processing and training jobs\n",
    "In this assignment you move your data processing, feature enginering, and model training code to SageMaker jobs.\n",
    "\n",
    "The following diagram shows an anatomy of a SageMaker container:\n",
    "\n",
    "![](../img/container-anatomy.png)\n",
    "\n",
    "Refer to the notebook [`02-sagemaker-containers.ipynb`](../02-sagemaker-containers.ipynb) for code snippets and a general guidance for the exercises in this assignment."
   ]
  },
  {
   "cell_type": "markdown",
   "id": "82509f78-db32-4573-8407-8398e65e157c",
   "metadata": {},
   "source": [
    "## Import packages"
   ]
  },
  {
   "cell_type": "code",
   "execution_count": 2,
   "id": "0915bc6f-8200-43d5-b941-473a25674b16",
   "metadata": {
    "tags": []
   },
   "outputs": [
    {
     "data": {
      "text/plain": [
       "'2.165.0'"
      ]
     },
     "execution_count": 2,
     "metadata": {},
     "output_type": "execute_result"
    }
   ],
   "source": [
    "import time\n",
    "import boto3\n",
    "import botocore\n",
    "import numpy as np  \n",
    "import pandas as pd  \n",
    "import sagemaker\n",
    "from time import gmtime, strftime, sleep\n",
    "from sagemaker.sklearn.processing import SKLearnProcessor\n",
    "from sagemaker.processing import ProcessingInput, ProcessingOutput\n",
    "from sklearn.metrics import roc_auc_score\n",
    "from smexperiments.experiment import Experiment\n",
    "from smexperiments.trial import Trial\n",
    "from smexperiments.trial_component import TrialComponent\n",
    "from smexperiments.tracker import Tracker\n",
    "\n",
    "sagemaker.__version__"
   ]
  },
  {
   "cell_type": "code",
   "execution_count": 3,
   "id": "15c66708-45eb-45e2-a84b-4ac542738beb",
   "metadata": {
    "tags": []
   },
   "outputs": [],
   "source": [
    "session = sagemaker.Session()\n",
    "sm = session.sagemaker_client"
   ]
  },
  {
   "cell_type": "markdown",
   "id": "ad5834a1-391f-4b3d-bb47-4b00b73c4fa8",
   "metadata": {},
   "source": [
    "## [Optional] Load an existing or create a new experiment\n",
    "Load an existing or create a new experiment to track parameters, metrics, and artifacts in this notebook."
   ]
  },
  {
   "cell_type": "code",
   "execution_count": 4,
   "id": "5fc23732-dde6-4e38-853e-3a6b6adbe927",
   "metadata": {
    "tags": []
   },
   "outputs": [],
   "source": [
    "# Load experiment based on the a name\n",
    "# experiment = Experiment.load(\"mohammadexperiment\", sagemaker_boto_client=sm)"
   ]
  },
  {
   "cell_type": "code",
   "execution_count": 5,
   "id": "28ec4b3b-5dcc-4c35-8b83-c3993b397b02",
   "metadata": {
    "tags": []
   },
   "outputs": [],
   "source": [
    "# Alternatively, create a new experiment\n",
    "experiment_name = f\"from-idea-to-prod-experiment-{strftime('%d-%H-%M-%S', gmtime())}\"\n",
    "experiment = Experiment.create(\n",
    "   experiment_name=experiment_name,\n",
    "   description=\"Direct marketing binary classification\",\n",
    "   sagemaker_boto_client=sm,\n",
    ")"
   ]
  },
  {
   "cell_type": "markdown",
   "id": "3539a9e3",
   "metadata": {},
   "source": []
  },
  {
   "cell_type": "markdown",
   "id": "f12711df-77ca-456b-9e4b-7586f003edaa",
   "metadata": {},
   "source": [
    "## Excercise 1: Process data\n",
    "- Use SageMaker session object to [upload](https://sagemaker.readthedocs.io/en/stable/api/utility/session.html#sagemaker.session.Session.upload_data)  the dataset to an Amazon S3 bucket. Use a SageMaker [default bucket](https://sagemaker.readthedocs.io/en/stable/api/utility/session.html#sagemaker.session.Session.default_bucket)\n",
    "- Move data processing code from the previous notebook to a Python executable script. You can pass any parameters to your script to parametrize the data processing\n",
    "- Set the Amazon S3 paths for the output datasets\n",
    "- Use [SageMaker Python SDK](https://sagemaker.readthedocs.io/en/stable/overview.html) [`SKLearnProcessor`](https://sagemaker.readthedocs.io/en/stable/frameworks/sklearn/sagemaker.sklearn.html#sagemaker.sklearn.processing.SKLearnProcessor) class to setup a processing job. \n",
    "- Configure processing job's [inputs](https://sagemaker.readthedocs.io/en/stable/api/training/processing.html#sagemaker.processing.ProcessingInput) and [outputs](https://sagemaker.readthedocs.io/en/stable/api/training/processing.html#sagemaker.processing.ProcessingOutput) to point the processing job to Amazon S3 locations\n",
    "- [Run](https://sagemaker.readthedocs.io/en/stable/api/training/processing.html#sagemaker.processing.ScriptProcessor.run) the processing job"
   ]
  },
  {
   "cell_type": "markdown",
   "id": "3c577c8c-7b1b-4cf4-90de-0c055d407331",
   "metadata": {},
   "source": [
    "### Python SDK processor classes\n",
    "Use the most suitable class to implement a processor for your use case:\n",
    "    \n",
    "![](../img/python-sdk-processors.png)"
   ]
  },
  {
   "cell_type": "code",
   "execution_count": 6,
   "id": "2a32c23c-349a-400b-be8f-192471d68284",
   "metadata": {
    "tags": []
   },
   "outputs": [],
   "source": [
    "session = sagemaker.Session()"
   ]
  },
  {
   "cell_type": "code",
   "execution_count": 7,
   "id": "ee0bf841-41ca-4812-a304-56b98d3f3f65",
   "metadata": {
    "tags": []
   },
   "outputs": [],
   "source": [
    "bucket_name = sagemaker.Session().default_bucket()\n",
    "bucket_prefix = \"from-idea-to-prod/xgboost\"  "
   ]
  },
  {
   "cell_type": "code",
   "execution_count": 8,
   "id": "e7f3c8b1-13da-4773-ba7c-83957345aa2d",
   "metadata": {
    "tags": []
   },
   "outputs": [],
   "source": [
    "sm_role = sagemaker.get_execution_role()\n",
    "region = session.boto_session.region_name\n",
    "sm_client = boto3.client(\"sagemaker\",region_name = region)"
   ]
  },
  {
   "cell_type": "code",
   "execution_count": 9,
   "id": "c8552eae-d40b-4cef-b30d-23cc4aa676c8",
   "metadata": {
    "tags": []
   },
   "outputs": [],
   "source": [
    "# Write data upload code\n",
    "# S3 key to the full dataset\n",
    "input_s3_url = session.upload_data(\n",
    "    path=\"data/bank-additional/bank-additional-full.csv\",\n",
    "    bucket=bucket_name,\n",
    "    key_prefix=f\"{bucket_prefix}/input\"\n",
    ")\n"
   ]
  },
  {
   "cell_type": "code",
   "execution_count": 10,
   "id": "de41ea02-1ed2-4550-b952-be3b90db2cf8",
   "metadata": {
    "tags": []
   },
   "outputs": [
    {
     "name": "stdout",
     "output_type": "stream",
     "text": [
      "Overwriting preprocessing_assignment.py\n"
     ]
    }
   ],
   "source": [
    "%%writefile preprocessing_assignment.py\n",
    "\n",
    "# Write executable data processing code here\n",
    "import pandas as pd\n",
    "import numpy as np\n",
    "import argparse\n",
    "import os\n",
    "\n",
    "def _parse_args():\n",
    "    \n",
    "    parser = argparse.ArgumentParser()\n",
    "    # Data, model, and output directories\n",
    "    # model_dir is always passed in from SageMaker. By default this is a S3 path under the default bucket.\n",
    "    parser.add_argument('--filepath', type=str, default='/opt/ml/processing/input/')\n",
    "    parser.add_argument('--filename', type=str, default='bank-additional-full.csv')\n",
    "    parser.add_argument('--outputpath', type=str, default='/opt/ml/processing/output/')\n",
    "    \n",
    "    return parser.parse_known_args()\n",
    "\n",
    "\n",
    "if __name__==\"__main__\":\n",
    "    # Process arguments\n",
    "    args, _ = _parse_args()\n",
    "    \n",
    "    print(\"Data processing and feature engineering start\")\n",
    "    df_data = pd.read_csv(os.path.join(args.filepath, args.filename), sep=\";\")\n",
    "    df_data[\"no_previous_contact\"] = np.where(df_data[\"pdays\"] == 999, 1, 0)\n",
    "    df_data[\"not_working\"] = np.where(np.in1d(df_data[\"job\"], [\"student\", \"retired\", \"unemployed\"]), 1, 0)\n",
    "    df_model_data = df_data.drop([\"duration\", \"emp.var.rate\", \"cons.price.idx\", \"cons.conf.idx\", \"euribor3m\", \"nr.employed\"],axis=1,)\n",
    "    df_model_data = pd.get_dummies(df_model_data)\n",
    "    target_col = \"y\"\n",
    "    df_model_data = pd.concat(\n",
    "    [\n",
    "        df_model_data[\"y_yes\"].rename(target_col),\n",
    "        df_model_data.drop([\"y_no\", \"y_yes\"], axis=1),\n",
    "    ],\n",
    "    axis=1,\n",
    "    )\n",
    "    train_data, validation_data, test_data = np.split(df_model_data.sample(frac = 1, random_state=1234),[int(0.7 * len(df_model_data)),int(0.9*len(df_model_data))],)\n",
    "    # Save the datasets (train, validation, test, baseline) locally\n",
    "    train_data.to_csv(os.path.join(args.outputpath, 'train/train.csv'), index=False, header=False)\n",
    "    validation_data.to_csv(os.path.join(args.outputpath, 'validation/validation.csv'), index=False, header=False)\n",
    "    test_data[target_col].to_csv(os.path.join(args.outputpath, 'test/test_y.csv'), index=False, header=False)\n",
    "    test_data.drop([target_col], axis=1).to_csv(os.path.join(args.outputpath, 'test/test_x.csv'), index=False, header=False)\n",
    "    print(\"## Processing complete. Exiting.\")"
   ]
  },
  {
   "cell_type": "code",
   "execution_count": 11,
   "id": "2a4983c1-0412-42d9-a8ad-c92fb0215f6e",
   "metadata": {
    "tags": []
   },
   "outputs": [],
   "source": [
    "# Set the Amazon S3 paths for the output datasets\n",
    "train_s3_url = f\"s3://{bucket_name}/{bucket_prefix}/train\"\n",
    "validation_s3_url = f\"s3://{bucket_name}/{bucket_prefix}/validation\"\n",
    "test_s3_url = f\"s3://{bucket_name}/{bucket_prefix}/test\"\n",
    "baseline_s3_url = f\"s3://{bucket_name}/{bucket_prefix}/baseline\"\n"
   ]
  },
  {
   "cell_type": "markdown",
   "id": "e41aa2a6-e221-4fff-a410-dd6c4f762e3e",
   "metadata": {},
   "source": [
    "### [Optional] Create a trail\n",
    "If you use an experiment, you must create a trial to capture processing and training output from this notebook. \n",
    "\n",
    "Use [`Trial`](https://sagemaker-experiments.readthedocs.io/en/latest/trial.html) class to interact with trials and the [`Tracker`](https://sagemaker-experiments.readthedocs.io/en/latest/tracker.html) class to record information to a trial component. \n",
    "\n",
    "SageMaker processing and training jobs automatically handle trial components and save metrics, parameters, metadata, and artifacts in the trial components if you provide an `experiment_config` in `Processor.run()` or `Estimator.fit()` calls."
   ]
  },
  {
   "cell_type": "code",
   "execution_count": 12,
   "id": "a2cf9b2d-03c9-427d-9e61-535ef87b2b6e",
   "metadata": {},
   "outputs": [],
   "source": [
    "# trial = experiment.create_trial(trial_name_prefix=\"Container-training\")"
   ]
  },
  {
   "cell_type": "code",
   "execution_count": 13,
   "id": "abe347bf-c963-4c6f-ae4e-417bc22ac303",
   "metadata": {},
   "outputs": [],
   "source": [
    "# with Tracker.create(display_name=\"Preprocessing-split\", sagemaker_boto_client=sm) as tracker:\n",
    "#    tracker.log_parameters()\n",
    "#    tracker.log_input()"
   ]
  },
  {
   "cell_type": "code",
   "execution_count": 14,
   "id": "a9456a33-4b0e-418f-b078-ff6be590ae27",
   "metadata": {},
   "outputs": [],
   "source": [
    "# Create experiment config to use in the processing and training jobs\n",
    "#experiment_config = {\n",
    "#    \"ExperimentName\": experiment.experiment_name,\n",
    "#    \"TrialName\": trial.trial_name,\n",
    "#    \"TrialComponentDisplayName\": \"Preprocessing\",\n",
    "#}"
   ]
  },
  {
   "cell_type": "markdown",
   "id": "4e3580c5-8e91-4339-b509-089f5107ed85",
   "metadata": {},
   "source": [
    "### Create a processor"
   ]
  },
  {
   "cell_type": "code",
   "execution_count": 15,
   "id": "4b65e2ed-6998-4efa-9cf0-ce68d9e5b944",
   "metadata": {
    "tags": []
   },
   "outputs": [
    {
     "name": "stderr",
     "output_type": "stream",
     "text": [
      "INFO:sagemaker.image_uris:Defaulting to only available Python version: py3\n"
     ]
    }
   ],
   "source": [
    "# Create SKLearnProcessor\n",
    "framework_version = \"0.23-1\"\n",
    "processing_instance_type = \"ml.m5.large\"\n",
    "processing_instance_count = 1\n",
    "\n",
    "sklearn_processor = SKLearnProcessor(\n",
    "    framework_version=framework_version,\n",
    "    role=sm_role,\n",
    "    instance_type=processing_instance_type,\n",
    "    instance_count=processing_instance_count, \n",
    "    base_job_name='from-idea-to-prod-processing',\n",
    "    sagemaker_session=session,\n",
    ")\n"
   ]
  },
  {
   "cell_type": "code",
   "execution_count": 16,
   "id": "3624021f-a0cf-40da-991c-2f9e04a46b54",
   "metadata": {
    "tags": []
   },
   "outputs": [],
   "source": [
    "# Define procesing inputs and outputs\n",
    "processing_inputs = [ProcessingInput(\n",
    "            source=input_s3_url, \n",
    "            destination=\"/opt/ml/processing/input\",\n",
    "            s3_input_mode=\"File\",\n",
    "            s3_data_distribution_type=\"ShardedByS3Key\"\n",
    "        )] # use input_s3_url as pointer to the full dataset\n",
    "\n",
    "processing_outputs = [ProcessingOutput(\n",
    "            output_name=\"train_data\", \n",
    "            source=\"/opt/ml/processing/output/train\",\n",
    "            destination=train_s3_url,\n",
    "        ),\n",
    "        ProcessingOutput(\n",
    "            output_name=\"validation_data\", \n",
    "            source=\"/opt/ml/processing/output/validation\", \n",
    "            destination=validation_s3_url\n",
    "        ),\n",
    "        ProcessingOutput(\n",
    "            output_name=\"test_data\", \n",
    "            source=\"/opt/ml/processing/output/test\", \n",
    "            destination=test_s3_url\n",
    "        ),\n",
    "        ProcessingOutput(\n",
    "            output_name=\"baseline_data\", \n",
    "            source=\"/opt/ml/processing/output/baseline\", \n",
    "            destination=baseline_s3_url\n",
    "        ),] \n",
    "# map local directories in the processing container to Amazon S3 locations"
   ]
  },
  {
   "cell_type": "code",
   "execution_count": 17,
   "id": "e4e9313e-e4b0-4ddc-928d-c6afd48a202d",
   "metadata": {
    "tags": []
   },
   "outputs": [
    {
     "name": "stderr",
     "output_type": "stream",
     "text": [
      "INFO:sagemaker:Creating processing-job with name from-idea-to-prod-processing-2023-06-18-06-44-05-259\n"
     ]
    }
   ],
   "source": [
    "# Start the processing job, pass an experiment_config parameter if you use experiments\n",
    "sklearn_processor.run(\n",
    "        inputs=processing_inputs,\n",
    "        outputs=processing_outputs,\n",
    "        code='preprocessing_assignment.py',\n",
    "        wait=False,\n",
    "        # experiment_config=experiment_config,\n",
    "    )"
   ]
  },
  {
   "cell_type": "code",
   "execution_count": 18,
   "id": "62da5c51-a9f8-4fd7-af9d-e195da3fcb78",
   "metadata": {
    "tags": []
   },
   "outputs": [
    {
     "name": "stdout",
     "output_type": "stream",
     "text": [
      "2023-06-18 06:44:05    5834924 from-idea-to-prod/xgboost/input/bank-additional-full.csv\n",
      "2023-06-18 06:30:53          0 from-idea-to-prod/xgboost/output/from-idea-to-prod-training-2023-06-18-06-28-40-237/debug-output/claim.smd\n",
      "2023-06-18 06:30:53       6274 from-idea-to-prod/xgboost/output/from-idea-to-prod-training-2023-06-18-06-28-40-237/debug-output/collections/000000000/worker_0_collections.json\n",
      "2023-06-18 06:30:53        214 from-idea-to-prod/xgboost/output/from-idea-to-prod-training-2023-06-18-06-28-40-237/debug-output/events/000000000000/000000000000_worker_0.tfevents\n",
      "2023-06-18 06:30:53        220 from-idea-to-prod/xgboost/output/from-idea-to-prod-training-2023-06-18-06-28-40-237/debug-output/events/000000000010/000000000010_worker_0.tfevents\n",
      "2023-06-18 06:30:53        220 from-idea-to-prod/xgboost/output/from-idea-to-prod-training-2023-06-18-06-28-40-237/debug-output/events/000000000020/000000000020_worker_0.tfevents\n",
      "2023-06-18 06:30:53        220 from-idea-to-prod/xgboost/output/from-idea-to-prod-training-2023-06-18-06-28-40-237/debug-output/events/000000000030/000000000030_worker_0.tfevents\n",
      "2023-06-18 06:30:53        285 from-idea-to-prod/xgboost/output/from-idea-to-prod-training-2023-06-18-06-28-40-237/debug-output/index/000000000/000000000000_worker_0.json\n",
      "2023-06-18 06:30:53        286 from-idea-to-prod/xgboost/output/from-idea-to-prod-training-2023-06-18-06-28-40-237/debug-output/index/000000000/000000000010_worker_0.json\n",
      "2023-06-18 06:30:53        286 from-idea-to-prod/xgboost/output/from-idea-to-prod-training-2023-06-18-06-28-40-237/debug-output/index/000000000/000000000020_worker_0.json\n",
      "2023-06-18 06:30:53        286 from-idea-to-prod/xgboost/output/from-idea-to-prod-training-2023-06-18-06-28-40-237/debug-output/index/000000000/000000000030_worker_0.json\n",
      "2023-06-18 06:31:04          0 from-idea-to-prod/xgboost/output/from-idea-to-prod-training-2023-06-18-06-28-40-237/debug-output/training_job_end.ts\n",
      "2023-06-18 06:31:03       5084 from-idea-to-prod/xgboost/output/from-idea-to-prod-training-2023-06-18-06-28-40-237/output/model.tar.gz\n",
      "2023-06-18 06:31:04          0 from-idea-to-prod/xgboost/output/from-idea-to-prod-training-2023-06-18-06-28-40-237/profiler-output/framework/training_job_end.ts\n",
      "2023-06-18 06:31:00     161270 from-idea-to-prod/xgboost/output/from-idea-to-prod-training-2023-06-18-06-28-40-237/profiler-output/system/incremental/2023061806/1687069800.algo-1.json\n",
      "2023-06-18 06:31:04          0 from-idea-to-prod/xgboost/output/from-idea-to-prod-training-2023-06-18-06-28-40-237/profiler-output/system/training_job_end.ts\n",
      "2023-06-18 06:38:35          0 from-idea-to-prod/xgboost/output/from-idea-to-prod-training-2023-06-18-06-36-23-147/debug-output/claim.smd\n",
      "2023-06-18 06:38:35       6274 from-idea-to-prod/xgboost/output/from-idea-to-prod-training-2023-06-18-06-36-23-147/debug-output/collections/000000000/worker_0_collections.json\n",
      "2023-06-18 06:38:35        214 from-idea-to-prod/xgboost/output/from-idea-to-prod-training-2023-06-18-06-36-23-147/debug-output/events/000000000000/000000000000_worker_0.tfevents\n",
      "2023-06-18 06:38:35        220 from-idea-to-prod/xgboost/output/from-idea-to-prod-training-2023-06-18-06-36-23-147/debug-output/events/000000000010/000000000010_worker_0.tfevents\n",
      "2023-06-18 06:38:35        220 from-idea-to-prod/xgboost/output/from-idea-to-prod-training-2023-06-18-06-36-23-147/debug-output/events/000000000020/000000000020_worker_0.tfevents\n",
      "2023-06-18 06:38:35        220 from-idea-to-prod/xgboost/output/from-idea-to-prod-training-2023-06-18-06-36-23-147/debug-output/events/000000000030/000000000030_worker_0.tfevents\n",
      "2023-06-18 06:38:35        285 from-idea-to-prod/xgboost/output/from-idea-to-prod-training-2023-06-18-06-36-23-147/debug-output/index/000000000/000000000000_worker_0.json\n",
      "2023-06-18 06:38:35        286 from-idea-to-prod/xgboost/output/from-idea-to-prod-training-2023-06-18-06-36-23-147/debug-output/index/000000000/000000000010_worker_0.json\n",
      "2023-06-18 06:38:35        286 from-idea-to-prod/xgboost/output/from-idea-to-prod-training-2023-06-18-06-36-23-147/debug-output/index/000000000/000000000020_worker_0.json\n",
      "2023-06-18 06:38:35        286 from-idea-to-prod/xgboost/output/from-idea-to-prod-training-2023-06-18-06-36-23-147/debug-output/index/000000000/000000000030_worker_0.json\n",
      "2023-06-18 06:38:47          0 from-idea-to-prod/xgboost/output/from-idea-to-prod-training-2023-06-18-06-36-23-147/debug-output/training_job_end.ts\n",
      "2023-06-18 06:38:45       5083 from-idea-to-prod/xgboost/output/from-idea-to-prod-training-2023-06-18-06-36-23-147/output/model.tar.gz\n",
      "2023-06-18 06:38:47          0 from-idea-to-prod/xgboost/output/from-idea-to-prod-training-2023-06-18-06-36-23-147/profiler-output/framework/training_job_end.ts\n",
      "2023-06-18 06:38:43      42415 from-idea-to-prod/xgboost/output/from-idea-to-prod-training-2023-06-18-06-36-23-147/profiler-output/system/incremental/2023061806/1687070220.algo-1.json\n",
      "2023-06-18 06:38:43     169193 from-idea-to-prod/xgboost/output/from-idea-to-prod-training-2023-06-18-06-36-23-147/profiler-output/system/incremental/2023061806/1687070280.algo-1.json\n",
      "2023-06-18 06:38:47          0 from-idea-to-prod/xgboost/output/from-idea-to-prod-training-2023-06-18-06-36-23-147/profiler-output/system/training_job_end.ts\n",
      "2023-06-18 06:40:53     498214 from-idea-to-prod/xgboost/test/test_x.csv\n",
      "2023-06-18 06:40:53       8238 from-idea-to-prod/xgboost/test/test_y.csv\n",
      "2023-06-18 06:40:53    3544968 from-idea-to-prod/xgboost/train/train.csv\n",
      "2023-06-18 06:40:53    1013024 from-idea-to-prod/xgboost/validation/validation.csv\n"
     ]
    }
   ],
   "source": [
    "!aws s3 ls {bucket_name}/{bucket_prefix} --recursive"
   ]
  },
  {
   "cell_type": "markdown",
   "id": "931aa28b-f71a-4bcf-9be1-741f25cfdf5f",
   "metadata": {},
   "source": [
    "## Exercise 2: Model training\n",
    "- Get a container image URI for the used built-in SageMaker ML algorithm using SageMaker SDK [helper](https://sagemaker.readthedocs.io/en/stable/api/utility/image_uris.html#sagemaker.image_uris.retrieve)\n",
    "- Configure data [input channels](https://sagemaker.readthedocs.io/en/stable/api/utility/inputs.html#sagemaker.inputs.TrainingInput) for the training job\n",
    "- Use [`Estimator`](https://sagemaker.readthedocs.io/en/stable/api/training/estimators.html#sagemaker.estimator.Estimator) class to setup a training job\n",
    "- Set [hyperparameters](https://sagemaker.readthedocs.io/en/stable/api/training/estimators.html#sagemaker.estimator.Estimator.set_hyperparameters)\n",
    "- [Run](https://sagemaker.readthedocs.io/en/stable/api/training/estimators.html#sagemaker.estimator.EstimatorBase.fit) the training job"
   ]
  },
  {
   "cell_type": "code",
   "execution_count": 19,
   "id": "9274e86b-5924-47c9-a294-44e45b586e52",
   "metadata": {
    "tags": []
   },
   "outputs": [
    {
     "name": "stderr",
     "output_type": "stream",
     "text": [
      "INFO:sagemaker.image_uris:Ignoring unnecessary instance type: None.\n"
     ]
    },
    {
     "name": "stdout",
     "output_type": "stream",
     "text": [
      "683313688378.dkr.ecr.us-east-1.amazonaws.com/sagemaker-xgboost:1.5-1\n"
     ]
    }
   ],
   "source": [
    "# Write code to retrieve a container image URI\n",
    "training_image = sagemaker.image_uris.retrieve(\"xgboost\", region=region, version=\"1.5-1\")\n",
    "print(training_image)"
   ]
  },
  {
   "cell_type": "markdown",
   "id": "2e61afbe",
   "metadata": {},
   "source": []
  },
  {
   "cell_type": "code",
   "execution_count": 20,
   "id": "d533adcd-e8ae-4a7e-b284-98758520125f",
   "metadata": {
    "tags": []
   },
   "outputs": [],
   "source": [
    "# Set the input data channels\n",
    "s3_input_train = sagemaker.inputs.TrainingInput(train_s3_url, content_type='csv')\n",
    "s3_input_validation = sagemaker.inputs.TrainingInput(validation_s3_url, content_type='csv')"
   ]
  },
  {
   "cell_type": "code",
   "execution_count": 21,
   "id": "65a6a99c-2e1e-40f5-abf9-4118a328a5bb",
   "metadata": {
    "tags": []
   },
   "outputs": [],
   "source": [
    "# Set an Amazon S3 path for a model artifact\n",
    "output_s3_url = f\"s3://{bucket_name}/{bucket_prefix}/output\""
   ]
  },
  {
   "cell_type": "markdown",
   "id": "640240ee-0e43-4a01-823d-fcf977587008",
   "metadata": {},
   "source": [
    "### Python SDK estimator classes\n",
    "SageMaker Python SDK contains corresponding [`EstimatorBase`](https://sagemaker.readthedocs.io/en/stable/api/training/estimators.html#sagemaker.estimator.EstimatorBase)-derived classes to access each of the built-in algorithms. You can extend [`Framework`](https://sagemaker.readthedocs.io/en/stable/api/training/estimators.html#sagemaker.estimator.Framework) class to implement a training with a custom framework.\n",
    "\n",
    "![](../img/python-sdk-estimators.png)"
   ]
  },
  {
   "cell_type": "code",
   "execution_count": 22,
   "id": "fd2bd740-cebc-47eb-ae77-9739c11e96a5",
   "metadata": {
    "tags": []
   },
   "outputs": [],
   "source": [
    "# Create an estimator\n",
    "train_instance_count = 1\n",
    "train_instance_type = \"ml.m5.xlarge\"\n",
    "\n",
    "estimator = sagemaker.estimator.Estimator(\n",
    "    image_uri=training_image, \n",
    "    instance_type=train_instance_type,  \n",
    "    instance_count=train_instance_count,  \n",
    "    role=sm_role,  \n",
    "    max_run=20 * 60, \n",
    "    output_path=output_s3_url, \n",
    "    sagemaker_session=session, \n",
    "    base_job_name=\"from-idea-to-prod-training\",\n",
    ")"
   ]
  },
  {
   "cell_type": "code",
   "execution_count": 23,
   "id": "a2b1c1b4-f7f3-4baa-b976-9640c4f238d0",
   "metadata": {
    "tags": []
   },
   "outputs": [],
   "source": [
    "# Set hyperparameters for the estimator algorithm\n",
    "estimator.set_hyperparameters(\n",
    "    num_round=150, \n",
    "    max_depth=3, \n",
    "    eta=0.5, \n",
    "    alpha=2.5, \n",
    "    objective=\"binary:logistic\",\n",
    "    eval_metric=\"auc\", \n",
    "    subsample=0.8, \n",
    "    colsample_bytree=0.8,\n",
    "    min_child_weight=3, \n",
    "    early_stopping_rounds=10, \n",
    "    verbosity=1, \n",
    ")"
   ]
  },
  {
   "cell_type": "code",
   "execution_count": 24,
   "id": "59062be8-afbc-4202-abe7-506870865b01",
   "metadata": {
    "tags": []
   },
   "outputs": [],
   "source": [
    "# Set the training inputs\n",
    "training_inputs =  {'train': s3_input_train, 'validation': s3_input_validation}"
   ]
  },
  {
   "cell_type": "code",
   "execution_count": 25,
   "id": "97daec75-fc1a-45a2-9fec-f8fffc6c326d",
   "metadata": {
    "tags": []
   },
   "outputs": [
    {
     "name": "stderr",
     "output_type": "stream",
     "text": [
      "INFO:sagemaker:Creating training-job with name: from-idea-to-prod-training-2023-06-18-06-44-07-007\n"
     ]
    },
    {
     "name": "stdout",
     "output_type": "stream",
     "text": [
      "2023-06-18 06:44:07 Starting - Starting the training job...\n",
      "2023-06-18 06:44:22 Starting - Preparing the instances for training......\n",
      "2023-06-18 06:45:28 Downloading - Downloading input data...\n",
      "2023-06-18 06:46:03 Training - Downloading the training image...\n",
      "2023-06-18 06:46:34 Uploading - Uploading generated training model.\u001b[34m[2023-06-18 06:46:30.294 ip-10-0-67-208.ec2.internal:7 INFO utils.py:28] RULE_JOB_STOP_SIGNAL_FILENAME: None\u001b[0m\n",
      "\u001b[34m[2023-06-18 06:46:30.367 ip-10-0-67-208.ec2.internal:7 INFO profiler_config_parser.py:111] User has disabled profiler.\u001b[0m\n",
      "\u001b[34m[2023-06-18:06:46:30:INFO] Imported framework sagemaker_xgboost_container.training\u001b[0m\n",
      "\u001b[34m[2023-06-18:06:46:30:INFO] Failed to parse hyperparameter eval_metric value auc to Json.\u001b[0m\n",
      "\u001b[34mReturning the value itself\u001b[0m\n",
      "\u001b[34m[2023-06-18:06:46:30:INFO] Failed to parse hyperparameter objective value binary:logistic to Json.\u001b[0m\n",
      "\u001b[34mReturning the value itself\u001b[0m\n",
      "\u001b[34m[2023-06-18:06:46:30:INFO] No GPUs detected (normal if no gpus installed)\u001b[0m\n",
      "\u001b[34m[2023-06-18:06:46:30:INFO] Running XGBoost Sagemaker in algorithm mode\u001b[0m\n",
      "\u001b[34m[2023-06-18:06:46:30:INFO] Determined 0 GPU(s) available on the instance.\u001b[0m\n",
      "\u001b[34m[2023-06-18:06:46:30:INFO] Determined delimiter of CSV input is ','\u001b[0m\n",
      "\u001b[34m[2023-06-18:06:46:30:INFO] Determined delimiter of CSV input is ','\u001b[0m\n",
      "\u001b[34m[2023-06-18:06:46:30:INFO] files path: /opt/ml/input/data/train\u001b[0m\n",
      "\u001b[34m[2023-06-18:06:46:30:INFO] Determined delimiter of CSV input is ','\u001b[0m\n",
      "\u001b[34m[2023-06-18:06:46:30:INFO] files path: /opt/ml/input/data/validation\u001b[0m\n",
      "\u001b[34m[2023-06-18:06:46:30:INFO] Determined delimiter of CSV input is ','\u001b[0m\n",
      "\u001b[34m[2023-06-18:06:46:30:INFO] Single node training.\u001b[0m\n",
      "\u001b[34m[2023-06-18:06:46:30:INFO] Train matrix has 28831 rows and 59 columns\u001b[0m\n",
      "\u001b[34m[2023-06-18:06:46:30:INFO] Validation matrix has 8238 rows\u001b[0m\n",
      "\u001b[34m[2023-06-18 06:46:30.834 ip-10-0-67-208.ec2.internal:7 INFO json_config.py:92] Creating hook from json_config at /opt/ml/input/config/debughookconfig.json.\u001b[0m\n",
      "\u001b[34m[2023-06-18 06:46:30.834 ip-10-0-67-208.ec2.internal:7 INFO hook.py:206] tensorboard_dir has not been set for the hook. SMDebug will not be exporting tensorboard summaries.\u001b[0m\n",
      "\u001b[34m[2023-06-18 06:46:30.835 ip-10-0-67-208.ec2.internal:7 INFO hook.py:259] Saving to /opt/ml/output/tensors\u001b[0m\n",
      "\u001b[34m[2023-06-18 06:46:30.835 ip-10-0-67-208.ec2.internal:7 INFO state_store.py:77] The checkpoint config file /opt/ml/input/config/checkpointconfig.json does not exist.\u001b[0m\n",
      "\u001b[34m[2023-06-18:06:46:30:INFO] Debug hook created from config\u001b[0m\n",
      "\u001b[34m[2023-06-18 06:46:30.910 ip-10-0-67-208.ec2.internal:7 INFO hook.py:427] Monitoring the collections: metrics\u001b[0m\n",
      "\u001b[34m[2023-06-18 06:46:30.913 ip-10-0-67-208.ec2.internal:7 INFO hook.py:491] Hook is writing from the hook with pid: 7\u001b[0m\n",
      "\u001b[34m[0]#011train-auc:0.63862#011validation-auc:0.63006\u001b[0m\n",
      "\u001b[34m[1]#011train-auc:0.71945#011validation-auc:0.70437\u001b[0m\n",
      "\u001b[34m[2]#011train-auc:0.73034#011validation-auc:0.71831\u001b[0m\n",
      "\u001b[34m[3]#011train-auc:0.75215#011validation-auc:0.73667\u001b[0m\n",
      "\u001b[34m[4]#011train-auc:0.76513#011validation-auc:0.74864\u001b[0m\n",
      "\u001b[34m[5]#011train-auc:0.76771#011validation-auc:0.75226\u001b[0m\n",
      "\u001b[34m[6]#011train-auc:0.76716#011validation-auc:0.75089\u001b[0m\n",
      "\u001b[34m[7]#011train-auc:0.76892#011validation-auc:0.75345\u001b[0m\n",
      "\u001b[34m[8]#011train-auc:0.77349#011validation-auc:0.75551\u001b[0m\n",
      "\u001b[34m[9]#011train-auc:0.77472#011validation-auc:0.75516\u001b[0m\n",
      "\u001b[34m[10]#011train-auc:0.77544#011validation-auc:0.75553\u001b[0m\n",
      "\u001b[34m[11]#011train-auc:0.78070#011validation-auc:0.75961\u001b[0m\n",
      "\u001b[34m[12]#011train-auc:0.78179#011validation-auc:0.75984\u001b[0m\n",
      "\u001b[34m[13]#011train-auc:0.78353#011validation-auc:0.76055\u001b[0m\n",
      "\u001b[34m[14]#011train-auc:0.78350#011validation-auc:0.76005\u001b[0m\n",
      "\u001b[34m[15]#011train-auc:0.78334#011validation-auc:0.76033\u001b[0m\n",
      "\u001b[34m[16]#011train-auc:0.78537#011validation-auc:0.76253\u001b[0m\n",
      "\u001b[34m[17]#011train-auc:0.78660#011validation-auc:0.76359\u001b[0m\n",
      "\u001b[34m[18]#011train-auc:0.78678#011validation-auc:0.76419\u001b[0m\n",
      "\u001b[34m[19]#011train-auc:0.78737#011validation-auc:0.76460\u001b[0m\n",
      "\u001b[34m[20]#011train-auc:0.78827#011validation-auc:0.76657\u001b[0m\n",
      "\u001b[34m[21]#011train-auc:0.78910#011validation-auc:0.76602\u001b[0m\n",
      "\u001b[34m[22]#011train-auc:0.78934#011validation-auc:0.76578\u001b[0m\n",
      "\u001b[34m[23]#011train-auc:0.78984#011validation-auc:0.76558\u001b[0m\n",
      "\u001b[34m[24]#011train-auc:0.79002#011validation-auc:0.76593\u001b[0m\n",
      "\u001b[34m[25]#011train-auc:0.79074#011validation-auc:0.76511\u001b[0m\n",
      "\u001b[34m[26]#011train-auc:0.79169#011validation-auc:0.76547\u001b[0m\n",
      "\u001b[34m[27]#011train-auc:0.79282#011validation-auc:0.76514\u001b[0m\n",
      "\u001b[34m[28]#011train-auc:0.79434#011validation-auc:0.76548\u001b[0m\n",
      "\u001b[34m[29]#011train-auc:0.79526#011validation-auc:0.76527\u001b[0m\n",
      "\n",
      "2023-06-18 06:46:45 Completed - Training job completed\n",
      "Training seconds: 78\n",
      "Billable seconds: 78\n"
     ]
    }
   ],
   "source": [
    "# Run the training job, optionally use an experiment_config parameter\n",
    "estimator.fit(training_inputs)"
   ]
  },
  {
   "cell_type": "markdown",
   "id": "93daf307-36f0-47d7-80da-4c469637935c",
   "metadata": {},
   "source": [
    "Wait until the training job is done."
   ]
  },
  {
   "cell_type": "code",
   "execution_count": 26,
   "id": "6e41b9f1-f139-4bc6-bc78-9b3cd16dd7f4",
   "metadata": {
    "tags": []
   },
   "outputs": [
    {
     "data": {
      "text/plain": [
       "{'TrainingJobName': 'from-idea-to-prod-training-2023-06-18-06-44-07-007',\n",
       " 'TrainingJobArn': 'arn:aws:sagemaker:us-east-1:948851557155:training-job/from-idea-to-prod-training-2023-06-18-06-44-07-007',\n",
       " 'ModelArtifacts': {'S3ModelArtifacts': 's3://sagemaker-us-east-1-948851557155/from-idea-to-prod/xgboost/output/from-idea-to-prod-training-2023-06-18-06-44-07-007/output/model.tar.gz'},\n",
       " 'TrainingJobStatus': 'Completed',\n",
       " 'SecondaryStatus': 'Completed',\n",
       " 'HyperParameters': {'alpha': '2.5',\n",
       "  'colsample_bytree': '0.8',\n",
       "  'early_stopping_rounds': '10',\n",
       "  'eta': '0.5',\n",
       "  'eval_metric': 'auc',\n",
       "  'max_depth': '3',\n",
       "  'min_child_weight': '3',\n",
       "  'num_round': '150',\n",
       "  'objective': 'binary:logistic',\n",
       "  'subsample': '0.8',\n",
       "  'verbosity': '1'},\n",
       " 'AlgorithmSpecification': {'TrainingImage': '683313688378.dkr.ecr.us-east-1.amazonaws.com/sagemaker-xgboost:1.5-1',\n",
       "  'TrainingInputMode': 'File',\n",
       "  'MetricDefinitions': [{'Name': 'train:mae',\n",
       "    'Regex': '.*\\\\[[0-9]+\\\\].*#011train-mae:([-+]?[0-9]*\\\\.?[0-9]+(?:[eE][-+]?[0-9]+)?).*'},\n",
       "   {'Name': 'validation:aucpr',\n",
       "    'Regex': '.*\\\\[[0-9]+\\\\].*#011validation-aucpr:([-+]?[0-9]*\\\\.?[0-9]+(?:[eE][-+]?[0-9]+)?).*'},\n",
       "   {'Name': 'validation:f1_binary',\n",
       "    'Regex': '.*\\\\[[0-9]+\\\\].*#011validation-f1_binary:([-+]?[0-9]*\\\\.?[0-9]+(?:[eE][-+]?[0-9]+)?).*'},\n",
       "   {'Name': 'validation:mae',\n",
       "    'Regex': '.*\\\\[[0-9]+\\\\].*#011validation-mae:([-+]?[0-9]*\\\\.?[0-9]+(?:[eE][-+]?[0-9]+)?).*'},\n",
       "   {'Name': 'validation:logloss',\n",
       "    'Regex': '.*\\\\[[0-9]+\\\\].*#011validation-logloss:([-+]?[0-9]*\\\\.?[0-9]+(?:[eE][-+]?[0-9]+)?).*'},\n",
       "   {'Name': 'validation:f1',\n",
       "    'Regex': '.*\\\\[[0-9]+\\\\].*#011validation-f1:([-+]?[0-9]*\\\\.?[0-9]+(?:[eE][-+]?[0-9]+)?).*'},\n",
       "   {'Name': 'train:accuracy',\n",
       "    'Regex': '.*\\\\[[0-9]+\\\\].*#011train-accuracy:([-+]?[0-9]*\\\\.?[0-9]+(?:[eE][-+]?[0-9]+)?).*'},\n",
       "   {'Name': 'train:mse',\n",
       "    'Regex': '.*\\\\[[0-9]+\\\\].*#011train-mse:([-+]?[0-9]*\\\\.?[0-9]+(?:[eE][-+]?[0-9]+)?).*'},\n",
       "   {'Name': 'validation:recall',\n",
       "    'Regex': '.*\\\\[[0-9]+\\\\].*#011validation-recall:([-+]?[0-9]*\\\\.?[0-9]+(?:[eE][-+]?[0-9]+)?).*'},\n",
       "   {'Name': 'validation:poisson-nloglik',\n",
       "    'Regex': '.*\\\\[[0-9]+\\\\].*#011validation-poisson-nloglik:([-+]?[0-9]*\\\\.?[0-9]+(?:[eE][-+]?[0-9]+)?).*'},\n",
       "   {'Name': 'validation:precision',\n",
       "    'Regex': '.*\\\\[[0-9]+\\\\].*#011validation-precision:([-+]?[0-9]*\\\\.?[0-9]+(?:[eE][-+]?[0-9]+)?).*'},\n",
       "   {'Name': 'train:error',\n",
       "    'Regex': '.*\\\\[[0-9]+\\\\].*#011train-error:([-+]?[0-9]*\\\\.?[0-9]+(?:[eE][-+]?[0-9]+)?).*'},\n",
       "   {'Name': 'train:ndcg',\n",
       "    'Regex': '.*\\\\[[0-9]+\\\\].*#011train-ndcg:([-+]?[0-9]*\\\\.?[0-9]+(?:[eE][-+]?[0-9]+)?).*'},\n",
       "   {'Name': 'validation:map',\n",
       "    'Regex': '.*\\\\[[0-9]+\\\\].*#011validation-map:([-+]?[0-9]*\\\\.?[0-9]+(?:[eE][-+]?[0-9]+)?).*'},\n",
       "   {'Name': 'train:f1_binary',\n",
       "    'Regex': '.*\\\\[[0-9]+\\\\].*#011train-f1_binary:([-+]?[0-9]*\\\\.?[0-9]+(?:[eE][-+]?[0-9]+)?).*'},\n",
       "   {'Name': 'validation:auc',\n",
       "    'Regex': '.*\\\\[[0-9]+\\\\].*#011validation-auc:([-+]?[0-9]*\\\\.?[0-9]+(?:[eE][-+]?[0-9]+)?).*'},\n",
       "   {'Name': 'train:auc',\n",
       "    'Regex': '.*\\\\[[0-9]+\\\\].*#011train-auc:([-+]?[0-9]*\\\\.?[0-9]+(?:[eE][-+]?[0-9]+)?).*'},\n",
       "   {'Name': 'validation:error',\n",
       "    'Regex': '.*\\\\[[0-9]+\\\\].*#011validation-error:([-+]?[0-9]*\\\\.?[0-9]+(?:[eE][-+]?[0-9]+)?).*'},\n",
       "   {'Name': 'train:poisson-nloglik',\n",
       "    'Regex': '.*\\\\[[0-9]+\\\\].*#011train-poisson-nloglik:([-+]?[0-9]*\\\\.?[0-9]+(?:[eE][-+]?[0-9]+)?).*'},\n",
       "   {'Name': 'train:rmse',\n",
       "    'Regex': '.*\\\\[[0-9]+\\\\].*#011train-rmse:([-+]?[0-9]*\\\\.?[0-9]+(?:[eE][-+]?[0-9]+)?).*'},\n",
       "   {'Name': 'train:logloss',\n",
       "    'Regex': '.*\\\\[[0-9]+\\\\].*#011train-logloss:([-+]?[0-9]*\\\\.?[0-9]+(?:[eE][-+]?[0-9]+)?).*'},\n",
       "   {'Name': 'validation:accuracy',\n",
       "    'Regex': '.*\\\\[[0-9]+\\\\].*#011validation-accuracy:([-+]?[0-9]*\\\\.?[0-9]+(?:[eE][-+]?[0-9]+)?).*'},\n",
       "   {'Name': 'train:aucpr',\n",
       "    'Regex': '.*\\\\[[0-9]+\\\\].*#011train-aucpr:([-+]?[0-9]*\\\\.?[0-9]+(?:[eE][-+]?[0-9]+)?).*'},\n",
       "   {'Name': 'validation:balanced_accuracy',\n",
       "    'Regex': '.*\\\\[[0-9]+\\\\].*#011validation-balanced_accuracy:([-+]?[0-9]*\\\\.?[0-9]+(?:[eE][-+]?[0-9]+)?).*'},\n",
       "   {'Name': 'validation:rmse',\n",
       "    'Regex': '.*\\\\[[0-9]+\\\\].*#011validation-rmse:([-+]?[0-9]*\\\\.?[0-9]+(?:[eE][-+]?[0-9]+)?).*'},\n",
       "   {'Name': 'validation:mse',\n",
       "    'Regex': '.*\\\\[[0-9]+\\\\].*#011validation-mse:([-+]?[0-9]*\\\\.?[0-9]+(?:[eE][-+]?[0-9]+)?).*'},\n",
       "   {'Name': 'validation:ndcg',\n",
       "    'Regex': '.*\\\\[[0-9]+\\\\].*#011validation-ndcg:([-+]?[0-9]*\\\\.?[0-9]+(?:[eE][-+]?[0-9]+)?).*'},\n",
       "   {'Name': 'train:f1',\n",
       "    'Regex': '.*\\\\[[0-9]+\\\\].*#011train-f1:([-+]?[0-9]*\\\\.?[0-9]+(?:[eE][-+]?[0-9]+)?).*'},\n",
       "   {'Name': 'train:map',\n",
       "    'Regex': '.*\\\\[[0-9]+\\\\].*#011train-map:([-+]?[0-9]*\\\\.?[0-9]+(?:[eE][-+]?[0-9]+)?).*'}],\n",
       "  'EnableSageMakerMetricsTimeSeries': False},\n",
       " 'RoleArn': 'arn:aws:iam::948851557155:role/cfnstudiodomain-SageMakerExecutionRole-UDAB8Z6J2IB1',\n",
       " 'InputDataConfig': [{'ChannelName': 'train',\n",
       "   'DataSource': {'S3DataSource': {'S3DataType': 'S3Prefix',\n",
       "     'S3Uri': 's3://sagemaker-us-east-1-948851557155/from-idea-to-prod/xgboost/train',\n",
       "     'S3DataDistributionType': 'FullyReplicated'}},\n",
       "   'ContentType': 'csv',\n",
       "   'CompressionType': 'None',\n",
       "   'RecordWrapperType': 'None'},\n",
       "  {'ChannelName': 'validation',\n",
       "   'DataSource': {'S3DataSource': {'S3DataType': 'S3Prefix',\n",
       "     'S3Uri': 's3://sagemaker-us-east-1-948851557155/from-idea-to-prod/xgboost/validation',\n",
       "     'S3DataDistributionType': 'FullyReplicated'}},\n",
       "   'ContentType': 'csv',\n",
       "   'CompressionType': 'None',\n",
       "   'RecordWrapperType': 'None'}],\n",
       " 'OutputDataConfig': {'KmsKeyId': '',\n",
       "  'S3OutputPath': 's3://sagemaker-us-east-1-948851557155/from-idea-to-prod/xgboost/output'},\n",
       " 'ResourceConfig': {'InstanceType': 'ml.m5.xlarge',\n",
       "  'InstanceCount': 1,\n",
       "  'VolumeSizeInGB': 30},\n",
       " 'StoppingCondition': {'MaxRuntimeInSeconds': 1200},\n",
       " 'CreationTime': datetime.datetime(2023, 6, 18, 6, 44, 7, 183000, tzinfo=tzlocal()),\n",
       " 'TrainingStartTime': datetime.datetime(2023, 6, 18, 6, 45, 27, 959000, tzinfo=tzlocal()),\n",
       " 'TrainingEndTime': datetime.datetime(2023, 6, 18, 6, 46, 45, 103000, tzinfo=tzlocal()),\n",
       " 'LastModifiedTime': datetime.datetime(2023, 6, 18, 6, 46, 45, 620000, tzinfo=tzlocal()),\n",
       " 'SecondaryStatusTransitions': [{'Status': 'Starting',\n",
       "   'StartTime': datetime.datetime(2023, 6, 18, 6, 44, 7, 183000, tzinfo=tzlocal()),\n",
       "   'EndTime': datetime.datetime(2023, 6, 18, 6, 45, 27, 959000, tzinfo=tzlocal()),\n",
       "   'StatusMessage': 'Preparing the instances for training'},\n",
       "  {'Status': 'Downloading',\n",
       "   'StartTime': datetime.datetime(2023, 6, 18, 6, 45, 27, 959000, tzinfo=tzlocal()),\n",
       "   'EndTime': datetime.datetime(2023, 6, 18, 6, 46, 3, 503000, tzinfo=tzlocal()),\n",
       "   'StatusMessage': 'Downloading input data'},\n",
       "  {'Status': 'Training',\n",
       "   'StartTime': datetime.datetime(2023, 6, 18, 6, 46, 3, 503000, tzinfo=tzlocal()),\n",
       "   'EndTime': datetime.datetime(2023, 6, 18, 6, 46, 34, 428000, tzinfo=tzlocal()),\n",
       "   'StatusMessage': 'Training image download completed. Training in progress.'},\n",
       "  {'Status': 'Uploading',\n",
       "   'StartTime': datetime.datetime(2023, 6, 18, 6, 46, 34, 428000, tzinfo=tzlocal()),\n",
       "   'EndTime': datetime.datetime(2023, 6, 18, 6, 46, 45, 103000, tzinfo=tzlocal()),\n",
       "   'StatusMessage': 'Uploading generated training model'},\n",
       "  {'Status': 'Completed',\n",
       "   'StartTime': datetime.datetime(2023, 6, 18, 6, 46, 45, 103000, tzinfo=tzlocal()),\n",
       "   'EndTime': datetime.datetime(2023, 6, 18, 6, 46, 45, 103000, tzinfo=tzlocal()),\n",
       "   'StatusMessage': 'Training job completed'}],\n",
       " 'FinalMetricDataList': [{'MetricName': 'validation:auc',\n",
       "   'Value': 0.7652699947357178,\n",
       "   'Timestamp': datetime.datetime(2023, 6, 18, 6, 46, 31, tzinfo=tzlocal())},\n",
       "  {'MetricName': 'train:auc',\n",
       "   'Value': 0.7952600121498108,\n",
       "   'Timestamp': datetime.datetime(2023, 6, 18, 6, 46, 31, tzinfo=tzlocal())}],\n",
       " 'EnableNetworkIsolation': False,\n",
       " 'EnableInterContainerTrafficEncryption': False,\n",
       " 'EnableManagedSpotTraining': False,\n",
       " 'TrainingTimeInSeconds': 78,\n",
       " 'BillableTimeInSeconds': 78,\n",
       " 'DebugHookConfig': {'S3OutputPath': 's3://sagemaker-us-east-1-948851557155/from-idea-to-prod/xgboost/output',\n",
       "  'CollectionConfigurations': []},\n",
       " 'ProfilerConfig': {'S3OutputPath': 's3://sagemaker-us-east-1-948851557155/from-idea-to-prod/xgboost/output',\n",
       "  'ProfilingIntervalInMilliseconds': 500,\n",
       "  'DisableProfiler': False},\n",
       " 'ProfilingStatus': 'Enabled',\n",
       " 'ResponseMetadata': {'RequestId': '36116891-3c8c-41d4-a7f9-2781c08b53f1',\n",
       "  'HTTPStatusCode': 200,\n",
       "  'HTTPHeaders': {'x-amzn-requestid': '36116891-3c8c-41d4-a7f9-2781c08b53f1',\n",
       "   'content-type': 'application/x-amz-json-1.1',\n",
       "   'content-length': '7283',\n",
       "   'date': 'Sun, 18 Jun 2023 06:47:19 GMT'},\n",
       "  'RetryAttempts': 0}}"
      ]
     },
     "execution_count": 26,
     "metadata": {},
     "output_type": "execute_result"
    }
   ],
   "source": [
    "# Describe the training job\n",
    "training_job_name = estimator._current_job_name\n",
    "boto3.client(\"sagemaker\", region_name=region).describe_training_job(TrainingJobName=training_job_name)"
   ]
  },
  {
   "cell_type": "code",
   "execution_count": 27,
   "id": "df65feaf-9c5e-4b5d-ac92-eba64f6c039f",
   "metadata": {
    "tags": []
   },
   "outputs": [
    {
     "name": "stdout",
     "output_type": "stream",
     "text": [
      "Train-auc:0.80, Validate-auc:0.77\n"
     ]
    }
   ],
   "source": [
    "metrics = None\n",
    "while not metrics:\n",
    "    metrics = sm.describe_training_job(\n",
    "        TrainingJobName=training_job_name\n",
    "        ).get(\"FinalMetricDataList\")\n",
    "\n",
    "    if not metrics:\n",
    "        print(f\"Training job {training_job_name} hasn't finished yet!\")\n",
    "        time.sleep(10)\n",
    "    \n",
    "train_auc = float([m['Value'] for m in metrics if m['MetricName'] == 'train:auc'][0])\n",
    "validate_auc = float([m['Value'] for m in metrics if m['MetricName'] == 'validation:auc'][0])\n",
    "\n",
    "print(f\"Train-auc:{train_auc:.2f}, Validate-auc:{validate_auc:.2f}\")\n"
   ]
  },
  {
   "cell_type": "markdown",
   "id": "6c7c398c-a444-41e2-8455-b886769b060b",
   "metadata": {},
   "source": [
    "## Exercise 3: Validate model\n",
    "To validate the model, you use the model artifact from the training job to run predictions on the test dataset. You can either create a [real-time inference endpoint](https://docs.aws.amazon.com/sagemaker/latest/dg/realtime-endpoints.html) or create a [batch transform](https://docs.aws.amazon.com/sagemaker/latest/dg/batch-transform.html)."
   ]
  },
  {
   "cell_type": "markdown",
   "id": "c6343917-358f-4189-bd0f-ed3b6188a78c",
   "metadata": {},
   "source": [
    "### Option 1: Real-time inference\n",
    "- Use [Estimator.deploy](https://sagemaker.readthedocs.io/en/stable/api/training/estimators.html#sagemaker.estimator.EstimatorBase.deploy) function to provision a real-time inference endpoint\n",
    "- Load test dataset\n",
    "- Send the test dataset to the endpoint. Use [Predictor.predict](https://sagemaker.readthedocs.io/en/stable/api/inference/predictors.html#sagemaker.predictor.Predictor.predict) function\n",
    "- Evaluate the predictions"
   ]
  },
  {
   "cell_type": "code",
   "execution_count": 29,
   "id": "64470a32-0a46-4a6b-be34-d6cd38f2cf78",
   "metadata": {
    "tags": []
   },
   "outputs": [
    {
     "name": "stderr",
     "output_type": "stream",
     "text": [
      "INFO:sagemaker:Creating model with name: from-idea-to-prod-training-2023-06-18-06-47-38-003\n",
      "INFO:sagemaker:Creating endpoint-config with name from-idea-to-prod-training-2023-06-18-06-47-38-003\n",
      "INFO:sagemaker:Creating endpoint with name from-idea-to-prod-training-2023-06-18-06-47-38-003\n"
     ]
    }
   ],
   "source": [
    "# Create a predictor\n",
    "# Remember, the training job saved the test dataset in the specified S3 location\n",
    "\n",
    "predictor = estimator.deploy(initial_instance_count=1,\n",
    "        instance_type=\"ml.m5.large\", wait=False)"
   ]
  },
  {
   "cell_type": "code",
   "execution_count": 30,
   "id": "1f042c94-7c07-411b-9ab7-d0f75ef00955",
   "metadata": {
    "tags": []
   },
   "outputs": [
    {
     "ename": "FileNotFoundError",
     "evalue": "[Errno 2] No such file or directory: 'tmp/test_x.csv'",
     "output_type": "error",
     "traceback": [
      "\u001b[0;31m---------------------------------------------------------------------------\u001b[0m",
      "\u001b[0;31mFileNotFoundError\u001b[0m                         Traceback (most recent call last)",
      "\u001b[0;32m<ipython-input-30-4c38bf4d90a5>\u001b[0m in \u001b[0;36m<module>\u001b[0;34m\u001b[0m\n\u001b[1;32m      1\u001b[0m \u001b[0;31m# Load the test dataset\u001b[0m\u001b[0;34m\u001b[0m\u001b[0;34m\u001b[0m\u001b[0;34m\u001b[0m\u001b[0m\n\u001b[0;32m----> 2\u001b[0;31m \u001b[0mtest_x\u001b[0m \u001b[0;34m=\u001b[0m \u001b[0mpd\u001b[0m\u001b[0;34m.\u001b[0m\u001b[0mread_csv\u001b[0m\u001b[0;34m(\u001b[0m\u001b[0;34m\"tmp/test_x.csv\"\u001b[0m\u001b[0;34m,\u001b[0m \u001b[0mnames\u001b[0m\u001b[0;34m=\u001b[0m\u001b[0;34m[\u001b[0m\u001b[0;34mf'{i}'\u001b[0m \u001b[0;32mfor\u001b[0m \u001b[0mi\u001b[0m \u001b[0;32min\u001b[0m \u001b[0mrange\u001b[0m\u001b[0;34m(\u001b[0m\u001b[0;36m59\u001b[0m\u001b[0;34m)\u001b[0m\u001b[0;34m]\u001b[0m\u001b[0;34m)\u001b[0m\u001b[0;34m\u001b[0m\u001b[0;34m\u001b[0m\u001b[0m\n\u001b[0m\u001b[1;32m      3\u001b[0m \u001b[0mtest_y\u001b[0m \u001b[0;34m=\u001b[0m \u001b[0mpd\u001b[0m\u001b[0;34m.\u001b[0m\u001b[0mread_csv\u001b[0m\u001b[0;34m(\u001b[0m\u001b[0;34m\"tmp/test_y.csv\"\u001b[0m\u001b[0;34m,\u001b[0m \u001b[0mnames\u001b[0m\u001b[0;34m=\u001b[0m\u001b[0;34m[\u001b[0m\u001b[0;34m'y'\u001b[0m\u001b[0;34m]\u001b[0m\u001b[0;34m)\u001b[0m\u001b[0;34m\u001b[0m\u001b[0;34m\u001b[0m\u001b[0m\n",
      "\u001b[0;32m/opt/conda/lib/python3.7/site-packages/pandas/util/_decorators.py\u001b[0m in \u001b[0;36mwrapper\u001b[0;34m(*args, **kwargs)\u001b[0m\n\u001b[1;32m    309\u001b[0m                     \u001b[0mstacklevel\u001b[0m\u001b[0;34m=\u001b[0m\u001b[0mstacklevel\u001b[0m\u001b[0;34m,\u001b[0m\u001b[0;34m\u001b[0m\u001b[0;34m\u001b[0m\u001b[0m\n\u001b[1;32m    310\u001b[0m                 )\n\u001b[0;32m--> 311\u001b[0;31m             \u001b[0;32mreturn\u001b[0m \u001b[0mfunc\u001b[0m\u001b[0;34m(\u001b[0m\u001b[0;34m*\u001b[0m\u001b[0margs\u001b[0m\u001b[0;34m,\u001b[0m \u001b[0;34m**\u001b[0m\u001b[0mkwargs\u001b[0m\u001b[0;34m)\u001b[0m\u001b[0;34m\u001b[0m\u001b[0;34m\u001b[0m\u001b[0m\n\u001b[0m\u001b[1;32m    312\u001b[0m \u001b[0;34m\u001b[0m\u001b[0m\n\u001b[1;32m    313\u001b[0m         \u001b[0;32mreturn\u001b[0m \u001b[0mwrapper\u001b[0m\u001b[0;34m\u001b[0m\u001b[0;34m\u001b[0m\u001b[0m\n",
      "\u001b[0;32m/opt/conda/lib/python3.7/site-packages/pandas/io/parsers/readers.py\u001b[0m in \u001b[0;36mread_csv\u001b[0;34m(filepath_or_buffer, sep, delimiter, header, names, index_col, usecols, squeeze, prefix, mangle_dupe_cols, dtype, engine, converters, true_values, false_values, skipinitialspace, skiprows, skipfooter, nrows, na_values, keep_default_na, na_filter, verbose, skip_blank_lines, parse_dates, infer_datetime_format, keep_date_col, date_parser, dayfirst, cache_dates, iterator, chunksize, compression, thousands, decimal, lineterminator, quotechar, quoting, doublequote, escapechar, comment, encoding, encoding_errors, dialect, error_bad_lines, warn_bad_lines, on_bad_lines, delim_whitespace, low_memory, memory_map, float_precision, storage_options)\u001b[0m\n\u001b[1;32m    584\u001b[0m     \u001b[0mkwds\u001b[0m\u001b[0;34m.\u001b[0m\u001b[0mupdate\u001b[0m\u001b[0;34m(\u001b[0m\u001b[0mkwds_defaults\u001b[0m\u001b[0;34m)\u001b[0m\u001b[0;34m\u001b[0m\u001b[0;34m\u001b[0m\u001b[0m\n\u001b[1;32m    585\u001b[0m \u001b[0;34m\u001b[0m\u001b[0m\n\u001b[0;32m--> 586\u001b[0;31m     \u001b[0;32mreturn\u001b[0m \u001b[0m_read\u001b[0m\u001b[0;34m(\u001b[0m\u001b[0mfilepath_or_buffer\u001b[0m\u001b[0;34m,\u001b[0m \u001b[0mkwds\u001b[0m\u001b[0;34m)\u001b[0m\u001b[0;34m\u001b[0m\u001b[0;34m\u001b[0m\u001b[0m\n\u001b[0m\u001b[1;32m    587\u001b[0m \u001b[0;34m\u001b[0m\u001b[0m\n\u001b[1;32m    588\u001b[0m \u001b[0;34m\u001b[0m\u001b[0m\n",
      "\u001b[0;32m/opt/conda/lib/python3.7/site-packages/pandas/io/parsers/readers.py\u001b[0m in \u001b[0;36m_read\u001b[0;34m(filepath_or_buffer, kwds)\u001b[0m\n\u001b[1;32m    480\u001b[0m \u001b[0;34m\u001b[0m\u001b[0m\n\u001b[1;32m    481\u001b[0m     \u001b[0;31m# Create the parser.\u001b[0m\u001b[0;34m\u001b[0m\u001b[0;34m\u001b[0m\u001b[0;34m\u001b[0m\u001b[0m\n\u001b[0;32m--> 482\u001b[0;31m     \u001b[0mparser\u001b[0m \u001b[0;34m=\u001b[0m \u001b[0mTextFileReader\u001b[0m\u001b[0;34m(\u001b[0m\u001b[0mfilepath_or_buffer\u001b[0m\u001b[0;34m,\u001b[0m \u001b[0;34m**\u001b[0m\u001b[0mkwds\u001b[0m\u001b[0;34m)\u001b[0m\u001b[0;34m\u001b[0m\u001b[0;34m\u001b[0m\u001b[0m\n\u001b[0m\u001b[1;32m    483\u001b[0m \u001b[0;34m\u001b[0m\u001b[0m\n\u001b[1;32m    484\u001b[0m     \u001b[0;32mif\u001b[0m \u001b[0mchunksize\u001b[0m \u001b[0;32mor\u001b[0m \u001b[0miterator\u001b[0m\u001b[0;34m:\u001b[0m\u001b[0;34m\u001b[0m\u001b[0;34m\u001b[0m\u001b[0m\n",
      "\u001b[0;32m/opt/conda/lib/python3.7/site-packages/pandas/io/parsers/readers.py\u001b[0m in \u001b[0;36m__init__\u001b[0;34m(self, f, engine, **kwds)\u001b[0m\n\u001b[1;32m    809\u001b[0m             \u001b[0mself\u001b[0m\u001b[0;34m.\u001b[0m\u001b[0moptions\u001b[0m\u001b[0;34m[\u001b[0m\u001b[0;34m\"has_index_names\"\u001b[0m\u001b[0;34m]\u001b[0m \u001b[0;34m=\u001b[0m \u001b[0mkwds\u001b[0m\u001b[0;34m[\u001b[0m\u001b[0;34m\"has_index_names\"\u001b[0m\u001b[0;34m]\u001b[0m\u001b[0;34m\u001b[0m\u001b[0;34m\u001b[0m\u001b[0m\n\u001b[1;32m    810\u001b[0m \u001b[0;34m\u001b[0m\u001b[0m\n\u001b[0;32m--> 811\u001b[0;31m         \u001b[0mself\u001b[0m\u001b[0;34m.\u001b[0m\u001b[0m_engine\u001b[0m \u001b[0;34m=\u001b[0m \u001b[0mself\u001b[0m\u001b[0;34m.\u001b[0m\u001b[0m_make_engine\u001b[0m\u001b[0;34m(\u001b[0m\u001b[0mself\u001b[0m\u001b[0;34m.\u001b[0m\u001b[0mengine\u001b[0m\u001b[0;34m)\u001b[0m\u001b[0;34m\u001b[0m\u001b[0;34m\u001b[0m\u001b[0m\n\u001b[0m\u001b[1;32m    812\u001b[0m \u001b[0;34m\u001b[0m\u001b[0m\n\u001b[1;32m    813\u001b[0m     \u001b[0;32mdef\u001b[0m \u001b[0mclose\u001b[0m\u001b[0;34m(\u001b[0m\u001b[0mself\u001b[0m\u001b[0;34m)\u001b[0m\u001b[0;34m:\u001b[0m\u001b[0;34m\u001b[0m\u001b[0;34m\u001b[0m\u001b[0m\n",
      "\u001b[0;32m/opt/conda/lib/python3.7/site-packages/pandas/io/parsers/readers.py\u001b[0m in \u001b[0;36m_make_engine\u001b[0;34m(self, engine)\u001b[0m\n\u001b[1;32m   1038\u001b[0m             )\n\u001b[1;32m   1039\u001b[0m         \u001b[0;31m# error: Too many arguments for \"ParserBase\"\u001b[0m\u001b[0;34m\u001b[0m\u001b[0;34m\u001b[0m\u001b[0;34m\u001b[0m\u001b[0m\n\u001b[0;32m-> 1040\u001b[0;31m         \u001b[0;32mreturn\u001b[0m \u001b[0mmapping\u001b[0m\u001b[0;34m[\u001b[0m\u001b[0mengine\u001b[0m\u001b[0;34m]\u001b[0m\u001b[0;34m(\u001b[0m\u001b[0mself\u001b[0m\u001b[0;34m.\u001b[0m\u001b[0mf\u001b[0m\u001b[0;34m,\u001b[0m \u001b[0;34m**\u001b[0m\u001b[0mself\u001b[0m\u001b[0;34m.\u001b[0m\u001b[0moptions\u001b[0m\u001b[0;34m)\u001b[0m  \u001b[0;31m# type: ignore[call-arg]\u001b[0m\u001b[0;34m\u001b[0m\u001b[0;34m\u001b[0m\u001b[0m\n\u001b[0m\u001b[1;32m   1041\u001b[0m \u001b[0;34m\u001b[0m\u001b[0m\n\u001b[1;32m   1042\u001b[0m     \u001b[0;32mdef\u001b[0m \u001b[0m_failover_to_python\u001b[0m\u001b[0;34m(\u001b[0m\u001b[0mself\u001b[0m\u001b[0;34m)\u001b[0m\u001b[0;34m:\u001b[0m\u001b[0;34m\u001b[0m\u001b[0;34m\u001b[0m\u001b[0m\n",
      "\u001b[0;32m/opt/conda/lib/python3.7/site-packages/pandas/io/parsers/c_parser_wrapper.py\u001b[0m in \u001b[0;36m__init__\u001b[0;34m(self, src, **kwds)\u001b[0m\n\u001b[1;32m     49\u001b[0m \u001b[0;34m\u001b[0m\u001b[0m\n\u001b[1;32m     50\u001b[0m         \u001b[0;31m# open handles\u001b[0m\u001b[0;34m\u001b[0m\u001b[0;34m\u001b[0m\u001b[0;34m\u001b[0m\u001b[0m\n\u001b[0;32m---> 51\u001b[0;31m         \u001b[0mself\u001b[0m\u001b[0;34m.\u001b[0m\u001b[0m_open_handles\u001b[0m\u001b[0;34m(\u001b[0m\u001b[0msrc\u001b[0m\u001b[0;34m,\u001b[0m \u001b[0mkwds\u001b[0m\u001b[0;34m)\u001b[0m\u001b[0;34m\u001b[0m\u001b[0;34m\u001b[0m\u001b[0m\n\u001b[0m\u001b[1;32m     52\u001b[0m         \u001b[0;32massert\u001b[0m \u001b[0mself\u001b[0m\u001b[0;34m.\u001b[0m\u001b[0mhandles\u001b[0m \u001b[0;32mis\u001b[0m \u001b[0;32mnot\u001b[0m \u001b[0;32mNone\u001b[0m\u001b[0;34m\u001b[0m\u001b[0;34m\u001b[0m\u001b[0m\n\u001b[1;32m     53\u001b[0m \u001b[0;34m\u001b[0m\u001b[0m\n",
      "\u001b[0;32m/opt/conda/lib/python3.7/site-packages/pandas/io/parsers/base_parser.py\u001b[0m in \u001b[0;36m_open_handles\u001b[0;34m(self, src, kwds)\u001b[0m\n\u001b[1;32m    227\u001b[0m             \u001b[0mmemory_map\u001b[0m\u001b[0;34m=\u001b[0m\u001b[0mkwds\u001b[0m\u001b[0;34m.\u001b[0m\u001b[0mget\u001b[0m\u001b[0;34m(\u001b[0m\u001b[0;34m\"memory_map\"\u001b[0m\u001b[0;34m,\u001b[0m \u001b[0;32mFalse\u001b[0m\u001b[0;34m)\u001b[0m\u001b[0;34m,\u001b[0m\u001b[0;34m\u001b[0m\u001b[0;34m\u001b[0m\u001b[0m\n\u001b[1;32m    228\u001b[0m             \u001b[0mstorage_options\u001b[0m\u001b[0;34m=\u001b[0m\u001b[0mkwds\u001b[0m\u001b[0;34m.\u001b[0m\u001b[0mget\u001b[0m\u001b[0;34m(\u001b[0m\u001b[0;34m\"storage_options\"\u001b[0m\u001b[0;34m,\u001b[0m \u001b[0;32mNone\u001b[0m\u001b[0;34m)\u001b[0m\u001b[0;34m,\u001b[0m\u001b[0;34m\u001b[0m\u001b[0;34m\u001b[0m\u001b[0m\n\u001b[0;32m--> 229\u001b[0;31m             \u001b[0merrors\u001b[0m\u001b[0;34m=\u001b[0m\u001b[0mkwds\u001b[0m\u001b[0;34m.\u001b[0m\u001b[0mget\u001b[0m\u001b[0;34m(\u001b[0m\u001b[0;34m\"encoding_errors\"\u001b[0m\u001b[0;34m,\u001b[0m \u001b[0;34m\"strict\"\u001b[0m\u001b[0;34m)\u001b[0m\u001b[0;34m,\u001b[0m\u001b[0;34m\u001b[0m\u001b[0;34m\u001b[0m\u001b[0m\n\u001b[0m\u001b[1;32m    230\u001b[0m         )\n\u001b[1;32m    231\u001b[0m \u001b[0;34m\u001b[0m\u001b[0m\n",
      "\u001b[0;32m/opt/conda/lib/python3.7/site-packages/pandas/io/common.py\u001b[0m in \u001b[0;36mget_handle\u001b[0;34m(path_or_buf, mode, encoding, compression, memory_map, is_text, errors, storage_options)\u001b[0m\n\u001b[1;32m    705\u001b[0m                 \u001b[0mencoding\u001b[0m\u001b[0;34m=\u001b[0m\u001b[0mioargs\u001b[0m\u001b[0;34m.\u001b[0m\u001b[0mencoding\u001b[0m\u001b[0;34m,\u001b[0m\u001b[0;34m\u001b[0m\u001b[0;34m\u001b[0m\u001b[0m\n\u001b[1;32m    706\u001b[0m                 \u001b[0merrors\u001b[0m\u001b[0;34m=\u001b[0m\u001b[0merrors\u001b[0m\u001b[0;34m,\u001b[0m\u001b[0;34m\u001b[0m\u001b[0;34m\u001b[0m\u001b[0m\n\u001b[0;32m--> 707\u001b[0;31m                 \u001b[0mnewline\u001b[0m\u001b[0;34m=\u001b[0m\u001b[0;34m\"\"\u001b[0m\u001b[0;34m,\u001b[0m\u001b[0;34m\u001b[0m\u001b[0;34m\u001b[0m\u001b[0m\n\u001b[0m\u001b[1;32m    708\u001b[0m             )\n\u001b[1;32m    709\u001b[0m         \u001b[0;32melse\u001b[0m\u001b[0;34m:\u001b[0m\u001b[0;34m\u001b[0m\u001b[0;34m\u001b[0m\u001b[0m\n",
      "\u001b[0;31mFileNotFoundError\u001b[0m: [Errno 2] No such file or directory: 'tmp/test_x.csv'"
     ]
    }
   ],
   "source": [
    "# Load the test dataset\n",
    "test_x = pd.read_csv(\"tmp/test_x.csv\", names=[f'{i}' for i in range(59)])\n",
    "test_y = pd.read_csv(\"tmp/test_y.csv\", names=['y'])"
   ]
  },
  {
   "cell_type": "code",
   "execution_count": null,
   "id": "6564ab3d-4a64-4ecd-a32c-f9c1c6e29524",
   "metadata": {},
   "outputs": [],
   "source": [
    "# Predict\n",
    "predictions = np.array(predictor.predict(test_x.values), dtype=float).squeeze()\n",
    "predictions"
   ]
  },
  {
   "cell_type": "code",
   "execution_count": 28,
   "id": "9d71d1d8-3f5b-4523-b3e4-7b9bb888b4df",
   "metadata": {
    "tags": []
   },
   "outputs": [
    {
     "ename": "NameError",
     "evalue": "name 'predictions' is not defined",
     "output_type": "error",
     "traceback": [
      "\u001b[0;31m---------------------------------------------------------------------------\u001b[0m",
      "\u001b[0;31mNameError\u001b[0m                                 Traceback (most recent call last)",
      "\u001b[0;32m<ipython-input-28-6d74ab069e77>\u001b[0m in \u001b[0;36m<module>\u001b[0;34m\u001b[0m\n\u001b[1;32m      3\u001b[0m test_results = pd.concat(\n\u001b[1;32m      4\u001b[0m     [\n\u001b[0;32m----> 5\u001b[0;31m         \u001b[0mpd\u001b[0m\u001b[0;34m.\u001b[0m\u001b[0mSeries\u001b[0m\u001b[0;34m(\u001b[0m\u001b[0mpredictions\u001b[0m\u001b[0;34m,\u001b[0m \u001b[0mname\u001b[0m\u001b[0;34m=\u001b[0m\u001b[0;34m\"y_pred\"\u001b[0m\u001b[0;34m,\u001b[0m \u001b[0mindex\u001b[0m\u001b[0;34m=\u001b[0m\u001b[0mtest_x\u001b[0m\u001b[0;34m.\u001b[0m\u001b[0mindex\u001b[0m\u001b[0;34m)\u001b[0m\u001b[0;34m,\u001b[0m\u001b[0;34m\u001b[0m\u001b[0;34m\u001b[0m\u001b[0m\n\u001b[0m\u001b[1;32m      6\u001b[0m         \u001b[0mtest_x\u001b[0m\u001b[0;34m,\u001b[0m\u001b[0;34m\u001b[0m\u001b[0;34m\u001b[0m\u001b[0m\n\u001b[1;32m      7\u001b[0m     ],\n",
      "\u001b[0;31mNameError\u001b[0m: name 'predictions' is not defined"
     ]
    }
   ],
   "source": [
    "# Evaluate predictions\n",
    "# Compare the predicted label to ground truth label\n",
    "test_results = pd.concat(\n",
    "    [\n",
    "        pd.Series(predictions, name=\"y_pred\", index=test_x.index),\n",
    "        test_x,\n",
    "    ],\n",
    "    axis=1,\n",
    ")\n",
    "pd.crosstab(\n",
    "    index=test_y['y'].values,\n",
    "    columns=np.round(predictions), \n",
    "    rownames=['actuals'], \n",
    "    colnames=['predictions']\n",
    ")\n",
    "test_auc = roc_auc_score(test_y, test_results[\"y_pred\"])\n",
    "print(f\"Test-auc: {test_auc:.2f}\")"
   ]
  },
  {
   "cell_type": "markdown",
   "id": "af398ac9-1de4-4c7f-ba3f-63c3b1084ef2",
   "metadata": {},
   "source": [
    "### Option 2: Batch transform\n",
    "For an asynchronous inference you can use a SageMaker [transform job](https://docs.aws.amazon.com/sagemaker/latest/dg/batch-transform.html).\n",
    "- Use [Estimator.tranformer](https://sagemaker.readthedocs.io/en/stable/api/training/estimators.html#sagemaker.estimator.EstimatorBase.transformer) function to create a transformer\n",
    "- [Run](https://sagemaker.readthedocs.io/en/stable/api/inference/transformer.html#sagemaker.transformer.Transformer.transform) a tranform job\n",
    "- Download the dataset from an S3 output location\n",
    "- Evalute the predictions"
   ]
  },
  {
   "cell_type": "code",
   "execution_count": null,
   "id": "ae8bb57b-a5ef-45e4-906f-b5925d7c9634",
   "metadata": {},
   "outputs": [],
   "source": [
    "# Create a transformer\n",
    "# transformer = estimator.transformer()"
   ]
  },
  {
   "cell_type": "code",
   "execution_count": null,
   "id": "46f09de2-a2bf-40f7-bb94-25d72f189710",
   "metadata": {},
   "outputs": [],
   "source": [
    "# Run a transform, use an experiment_config parameter\n",
    "# transformer.transform()"
   ]
  },
  {
   "cell_type": "markdown",
   "id": "a1dbe775-5cd2-418a-84fb-c304cb13e612",
   "metadata": {},
   "source": [
    "Wait until the transform job is done."
   ]
  },
  {
   "cell_type": "markdown",
   "id": "807fc104-9bdf-4416-a15a-6adeb80693ce",
   "metadata": {},
   "source": [
    "The transformer outputs the prediction probabilities and stores them as a `csv` file in the specified S3 location. The S3 path is stored in `transformer.output_path`. To compare the predictions with the ground truth labels, you must download the dataset from S3 and load it into a Pandas DataFrame."
   ]
  },
  {
   "cell_type": "code",
   "execution_count": null,
   "id": "faf7c79f-bbf7-49f4-8379-1e8d70b3d2fc",
   "metadata": {},
   "outputs": [],
   "source": [
    "# Download the predictions and the ground truth labels from S3\n"
   ]
  },
  {
   "cell_type": "code",
   "execution_count": null,
   "id": "3f01b199-80ad-403d-add3-ac0e80bbe2ea",
   "metadata": {},
   "outputs": [],
   "source": [
    "# Load the output dataset and the ground truth label\n",
    "# predictions = pd.read_csv()\n",
    "# test_y = pd.read_csv()"
   ]
  },
  {
   "cell_type": "code",
   "execution_count": null,
   "id": "f844907e-50f7-4139-844f-612fa2a3cf4d",
   "metadata": {},
   "outputs": [],
   "source": [
    "# Show the confusion matrix\n",
    "# pd.crosstab()\n"
   ]
  },
  {
   "cell_type": "code",
   "execution_count": null,
   "id": "d5b7e091-64fd-4b81-b58e-2e96678888ad",
   "metadata": {},
   "outputs": [],
   "source": [
    "# Calculate AUC\n",
    "# test_auc = roc_auc_score(test_y, predictions)\n",
    "#  print(f\"Test-auc: {test_auc:.2f}\")"
   ]
  },
  {
   "cell_type": "markdown",
   "id": "01dd760b-c28e-4adc-aefd-0135d372bef0",
   "metadata": {},
   "source": [
    "### [Optional] build ROC and precision-recall curves\n",
    "You can create various charts using [`sklearn.metrics`](https://scikit-learn.org/stable/modules/model_evaluation.html) package."
   ]
  },
  {
   "cell_type": "markdown",
   "id": "f2303034-c0aa-4402-a883-448fab8aaf1d",
   "metadata": {},
   "source": [
    "### [Optional] Save charts to the trial component\n",
    "You can use the Tracker class to save various charts to a trial component of the trial of your experiment.\n",
    "\n",
    "A Jupyter notebook trick: Press `Ctrl` + `/` to comment or uncomment all selected lines in the sell."
   ]
  },
  {
   "cell_type": "code",
   "execution_count": null,
   "id": "e388102f-8bef-49e4-8069-2d2e891ee8f5",
   "metadata": {},
   "outputs": [],
   "source": [
    "# Find a trial component name of the current trial based on the display name\n",
    "#batch_transform_trail_component = [\n",
    "#    tc for tc in trial.list_trial_components() \n",
    "#    if tc.display_name == <DISPLAY NAME OF THE TRIAL COMPONENT>][0]"
   ]
  },
  {
   "cell_type": "code",
   "execution_count": null,
   "id": "af5ae3eb-96f0-4ed8-a1ec-580903437d3c",
   "metadata": {},
   "outputs": [],
   "source": [
    "# Add charts\n",
    "# with Tracker.load(\n",
    "#    trial_component_name=batch_transform_trail_component.trial_component_name,\n",
    "#    sagemaker_boto_client=sm\n",
    "# ) as tracker:\n",
    "#    tracker.log_precision_recall()\n",
    "#    tracker.log_confusion_matrix()\n",
    "#    tracker.log_roc_curve()"
   ]
  },
  {
   "cell_type": "markdown",
   "id": "2db1ea21-8414-4bc6-94ac-6f8df64b0655",
   "metadata": {},
   "source": [
    "### [Optional] Explore experiments, trials, and trial components in Studio\n",
    "In **SageMaker resources** select **Experiment and trials**, choose **Open in trial component list** from the context menu:\n",
    "\n",
    "<img src=\"../img/experiment-and-trials-context-menu.png\" width=\"400\"/>"
   ]
  },
  {
   "cell_type": "markdown",
   "id": "50aa6b3a-cb09-4b29-8650-c1119d3905cd",
   "metadata": {},
   "source": [
    "## Exercise 4: [Optional] hyperparameter optimization (HPO)\n",
    "- Use [HyperparameterTuner](https://sagemaker.readthedocs.io/en/stable/api/training/tuner.html#sagemaker.tuner.HyperparameterTuner) to run a HPO job\n",
    "- Specify hyperparameters ranges and tuning strategy\n",
    "- [Run](https://sagemaker.readthedocs.io/en/stable/api/training/tuner.html#sagemaker.tuner.HyperparameterTuner.fit) the tuning job\n",
    "- Compare performance of the tuned and non-tuned models"
   ]
  },
  {
   "cell_type": "code",
   "execution_count": null,
   "id": "f37428b0-0b66-4b2e-b242-acea0f0311db",
   "metadata": {},
   "outputs": [],
   "source": [
    "# import required HPO objects\n",
    "from sagemaker.tuner import (\n",
    "    CategoricalParameter,\n",
    "    ContinuousParameter,\n",
    "    HyperparameterTuner,\n",
    "    IntegerParameter,\n",
    ")"
   ]
  },
  {
   "cell_type": "code",
   "execution_count": null,
   "id": "34f286fc-e2e3-41d3-bf89-b44bf475e93e",
   "metadata": {},
   "outputs": [],
   "source": [
    "# set up hyperparameter ranges\n",
    "# hp_ranges = {}\n"
   ]
  },
  {
   "cell_type": "code",
   "execution_count": null,
   "id": "d9323158-eac0-4a24-933d-a3a7cc2493a2",
   "metadata": {},
   "outputs": [],
   "source": [
    "# set up the objective metric\n",
    "objective = \"validation:auc\""
   ]
  },
  {
   "cell_type": "code",
   "execution_count": null,
   "id": "7d6fa692-ccfd-4584-877d-3e12e1625098",
   "metadata": {},
   "outputs": [],
   "source": [
    "# instantiate a HPO object\n",
    "# tuner = HyperparameterTuner()"
   ]
  },
  {
   "cell_type": "code",
   "execution_count": null,
   "id": "13b9c6ea-5722-4de1-b9a5-1af8e4f7f167",
   "metadata": {},
   "outputs": [],
   "source": [
    "# evaluate performance"
   ]
  },
  {
   "cell_type": "markdown",
   "id": "33483149-3fb0-45ce-8bf6-82c20058b6e4",
   "metadata": {},
   "source": [
    "## Clean-up\n",
    "Remove all real-time endpoints you created"
   ]
  },
  {
   "cell_type": "code",
   "execution_count": null,
   "id": "361c0849-89c6-452d-9656-1ca8a29ae1a7",
   "metadata": {},
   "outputs": [],
   "source": [
    "# predictor.delete_endpoint(delete_endpoint_config=True)\n"
   ]
  },
  {
   "cell_type": "code",
   "execution_count": null,
   "id": "733a4197-b3dc-4248-8c53-27ed8ad4526e",
   "metadata": {},
   "outputs": [],
   "source": [
    "# run if you created a tuned predictor after HPO\n",
    "# hpo_predictor.delete_endpoint(delete_endpoint_config=True)\n"
   ]
  },
  {
   "cell_type": "markdown",
   "id": "0c588b31-6ffe-4350-b8be-9f6631eb3eb7",
   "metadata": {},
   "source": [
    "## Continue with the assignment 3\n",
    "Navigate to the [assignment 3](03-assignment-sagemaker-pipeline.ipynb) notebook."
   ]
  },
  {
   "cell_type": "code",
   "execution_count": null,
   "id": "5b243a2d-c2f4-4b3b-87af-b414c816b276",
   "metadata": {},
   "outputs": [],
   "source": []
  }
 ],
 "metadata": {
  "availableInstances": [
   {
    "_defaultOrder": 0,
    "_isFastLaunch": true,
    "category": "General purpose",
    "gpuNum": 0,
    "hideHardwareSpecs": false,
    "memoryGiB": 4,
    "name": "ml.t3.medium",
    "vcpuNum": 2
   },
   {
    "_defaultOrder": 1,
    "_isFastLaunch": false,
    "category": "General purpose",
    "gpuNum": 0,
    "hideHardwareSpecs": false,
    "memoryGiB": 8,
    "name": "ml.t3.large",
    "vcpuNum": 2
   },
   {
    "_defaultOrder": 2,
    "_isFastLaunch": false,
    "category": "General purpose",
    "gpuNum": 0,
    "hideHardwareSpecs": false,
    "memoryGiB": 16,
    "name": "ml.t3.xlarge",
    "vcpuNum": 4
   },
   {
    "_defaultOrder": 3,
    "_isFastLaunch": false,
    "category": "General purpose",
    "gpuNum": 0,
    "hideHardwareSpecs": false,
    "memoryGiB": 32,
    "name": "ml.t3.2xlarge",
    "vcpuNum": 8
   },
   {
    "_defaultOrder": 4,
    "_isFastLaunch": true,
    "category": "General purpose",
    "gpuNum": 0,
    "hideHardwareSpecs": false,
    "memoryGiB": 8,
    "name": "ml.m5.large",
    "vcpuNum": 2
   },
   {
    "_defaultOrder": 5,
    "_isFastLaunch": false,
    "category": "General purpose",
    "gpuNum": 0,
    "hideHardwareSpecs": false,
    "memoryGiB": 16,
    "name": "ml.m5.xlarge",
    "vcpuNum": 4
   },
   {
    "_defaultOrder": 6,
    "_isFastLaunch": false,
    "category": "General purpose",
    "gpuNum": 0,
    "hideHardwareSpecs": false,
    "memoryGiB": 32,
    "name": "ml.m5.2xlarge",
    "vcpuNum": 8
   },
   {
    "_defaultOrder": 7,
    "_isFastLaunch": false,
    "category": "General purpose",
    "gpuNum": 0,
    "hideHardwareSpecs": false,
    "memoryGiB": 64,
    "name": "ml.m5.4xlarge",
    "vcpuNum": 16
   },
   {
    "_defaultOrder": 8,
    "_isFastLaunch": false,
    "category": "General purpose",
    "gpuNum": 0,
    "hideHardwareSpecs": false,
    "memoryGiB": 128,
    "name": "ml.m5.8xlarge",
    "vcpuNum": 32
   },
   {
    "_defaultOrder": 9,
    "_isFastLaunch": false,
    "category": "General purpose",
    "gpuNum": 0,
    "hideHardwareSpecs": false,
    "memoryGiB": 192,
    "name": "ml.m5.12xlarge",
    "vcpuNum": 48
   },
   {
    "_defaultOrder": 10,
    "_isFastLaunch": false,
    "category": "General purpose",
    "gpuNum": 0,
    "hideHardwareSpecs": false,
    "memoryGiB": 256,
    "name": "ml.m5.16xlarge",
    "vcpuNum": 64
   },
   {
    "_defaultOrder": 11,
    "_isFastLaunch": false,
    "category": "General purpose",
    "gpuNum": 0,
    "hideHardwareSpecs": false,
    "memoryGiB": 384,
    "name": "ml.m5.24xlarge",
    "vcpuNum": 96
   },
   {
    "_defaultOrder": 12,
    "_isFastLaunch": false,
    "category": "General purpose",
    "gpuNum": 0,
    "hideHardwareSpecs": false,
    "memoryGiB": 8,
    "name": "ml.m5d.large",
    "vcpuNum": 2
   },
   {
    "_defaultOrder": 13,
    "_isFastLaunch": false,
    "category": "General purpose",
    "gpuNum": 0,
    "hideHardwareSpecs": false,
    "memoryGiB": 16,
    "name": "ml.m5d.xlarge",
    "vcpuNum": 4
   },
   {
    "_defaultOrder": 14,
    "_isFastLaunch": false,
    "category": "General purpose",
    "gpuNum": 0,
    "hideHardwareSpecs": false,
    "memoryGiB": 32,
    "name": "ml.m5d.2xlarge",
    "vcpuNum": 8
   },
   {
    "_defaultOrder": 15,
    "_isFastLaunch": false,
    "category": "General purpose",
    "gpuNum": 0,
    "hideHardwareSpecs": false,
    "memoryGiB": 64,
    "name": "ml.m5d.4xlarge",
    "vcpuNum": 16
   },
   {
    "_defaultOrder": 16,
    "_isFastLaunch": false,
    "category": "General purpose",
    "gpuNum": 0,
    "hideHardwareSpecs": false,
    "memoryGiB": 128,
    "name": "ml.m5d.8xlarge",
    "vcpuNum": 32
   },
   {
    "_defaultOrder": 17,
    "_isFastLaunch": false,
    "category": "General purpose",
    "gpuNum": 0,
    "hideHardwareSpecs": false,
    "memoryGiB": 192,
    "name": "ml.m5d.12xlarge",
    "vcpuNum": 48
   },
   {
    "_defaultOrder": 18,
    "_isFastLaunch": false,
    "category": "General purpose",
    "gpuNum": 0,
    "hideHardwareSpecs": false,
    "memoryGiB": 256,
    "name": "ml.m5d.16xlarge",
    "vcpuNum": 64
   },
   {
    "_defaultOrder": 19,
    "_isFastLaunch": false,
    "category": "General purpose",
    "gpuNum": 0,
    "hideHardwareSpecs": false,
    "memoryGiB": 384,
    "name": "ml.m5d.24xlarge",
    "vcpuNum": 96
   },
   {
    "_defaultOrder": 20,
    "_isFastLaunch": false,
    "category": "General purpose",
    "gpuNum": 0,
    "hideHardwareSpecs": true,
    "memoryGiB": 0,
    "name": "ml.geospatial.interactive",
    "supportedImageNames": [
     "sagemaker-geospatial-v1-0"
    ],
    "vcpuNum": 0
   },
   {
    "_defaultOrder": 21,
    "_isFastLaunch": true,
    "category": "Compute optimized",
    "gpuNum": 0,
    "hideHardwareSpecs": false,
    "memoryGiB": 4,
    "name": "ml.c5.large",
    "vcpuNum": 2
   },
   {
    "_defaultOrder": 22,
    "_isFastLaunch": false,
    "category": "Compute optimized",
    "gpuNum": 0,
    "hideHardwareSpecs": false,
    "memoryGiB": 8,
    "name": "ml.c5.xlarge",
    "vcpuNum": 4
   },
   {
    "_defaultOrder": 23,
    "_isFastLaunch": false,
    "category": "Compute optimized",
    "gpuNum": 0,
    "hideHardwareSpecs": false,
    "memoryGiB": 16,
    "name": "ml.c5.2xlarge",
    "vcpuNum": 8
   },
   {
    "_defaultOrder": 24,
    "_isFastLaunch": false,
    "category": "Compute optimized",
    "gpuNum": 0,
    "hideHardwareSpecs": false,
    "memoryGiB": 32,
    "name": "ml.c5.4xlarge",
    "vcpuNum": 16
   },
   {
    "_defaultOrder": 25,
    "_isFastLaunch": false,
    "category": "Compute optimized",
    "gpuNum": 0,
    "hideHardwareSpecs": false,
    "memoryGiB": 72,
    "name": "ml.c5.9xlarge",
    "vcpuNum": 36
   },
   {
    "_defaultOrder": 26,
    "_isFastLaunch": false,
    "category": "Compute optimized",
    "gpuNum": 0,
    "hideHardwareSpecs": false,
    "memoryGiB": 96,
    "name": "ml.c5.12xlarge",
    "vcpuNum": 48
   },
   {
    "_defaultOrder": 27,
    "_isFastLaunch": false,
    "category": "Compute optimized",
    "gpuNum": 0,
    "hideHardwareSpecs": false,
    "memoryGiB": 144,
    "name": "ml.c5.18xlarge",
    "vcpuNum": 72
   },
   {
    "_defaultOrder": 28,
    "_isFastLaunch": false,
    "category": "Compute optimized",
    "gpuNum": 0,
    "hideHardwareSpecs": false,
    "memoryGiB": 192,
    "name": "ml.c5.24xlarge",
    "vcpuNum": 96
   },
   {
    "_defaultOrder": 29,
    "_isFastLaunch": true,
    "category": "Accelerated computing",
    "gpuNum": 1,
    "hideHardwareSpecs": false,
    "memoryGiB": 16,
    "name": "ml.g4dn.xlarge",
    "vcpuNum": 4
   },
   {
    "_defaultOrder": 30,
    "_isFastLaunch": false,
    "category": "Accelerated computing",
    "gpuNum": 1,
    "hideHardwareSpecs": false,
    "memoryGiB": 32,
    "name": "ml.g4dn.2xlarge",
    "vcpuNum": 8
   },
   {
    "_defaultOrder": 31,
    "_isFastLaunch": false,
    "category": "Accelerated computing",
    "gpuNum": 1,
    "hideHardwareSpecs": false,
    "memoryGiB": 64,
    "name": "ml.g4dn.4xlarge",
    "vcpuNum": 16
   },
   {
    "_defaultOrder": 32,
    "_isFastLaunch": false,
    "category": "Accelerated computing",
    "gpuNum": 1,
    "hideHardwareSpecs": false,
    "memoryGiB": 128,
    "name": "ml.g4dn.8xlarge",
    "vcpuNum": 32
   },
   {
    "_defaultOrder": 33,
    "_isFastLaunch": false,
    "category": "Accelerated computing",
    "gpuNum": 4,
    "hideHardwareSpecs": false,
    "memoryGiB": 192,
    "name": "ml.g4dn.12xlarge",
    "vcpuNum": 48
   },
   {
    "_defaultOrder": 34,
    "_isFastLaunch": false,
    "category": "Accelerated computing",
    "gpuNum": 1,
    "hideHardwareSpecs": false,
    "memoryGiB": 256,
    "name": "ml.g4dn.16xlarge",
    "vcpuNum": 64
   },
   {
    "_defaultOrder": 35,
    "_isFastLaunch": false,
    "category": "Accelerated computing",
    "gpuNum": 1,
    "hideHardwareSpecs": false,
    "memoryGiB": 61,
    "name": "ml.p3.2xlarge",
    "vcpuNum": 8
   },
   {
    "_defaultOrder": 36,
    "_isFastLaunch": false,
    "category": "Accelerated computing",
    "gpuNum": 4,
    "hideHardwareSpecs": false,
    "memoryGiB": 244,
    "name": "ml.p3.8xlarge",
    "vcpuNum": 32
   },
   {
    "_defaultOrder": 37,
    "_isFastLaunch": false,
    "category": "Accelerated computing",
    "gpuNum": 8,
    "hideHardwareSpecs": false,
    "memoryGiB": 488,
    "name": "ml.p3.16xlarge",
    "vcpuNum": 64
   },
   {
    "_defaultOrder": 38,
    "_isFastLaunch": false,
    "category": "Accelerated computing",
    "gpuNum": 8,
    "hideHardwareSpecs": false,
    "memoryGiB": 768,
    "name": "ml.p3dn.24xlarge",
    "vcpuNum": 96
   },
   {
    "_defaultOrder": 39,
    "_isFastLaunch": false,
    "category": "Memory Optimized",
    "gpuNum": 0,
    "hideHardwareSpecs": false,
    "memoryGiB": 16,
    "name": "ml.r5.large",
    "vcpuNum": 2
   },
   {
    "_defaultOrder": 40,
    "_isFastLaunch": false,
    "category": "Memory Optimized",
    "gpuNum": 0,
    "hideHardwareSpecs": false,
    "memoryGiB": 32,
    "name": "ml.r5.xlarge",
    "vcpuNum": 4
   },
   {
    "_defaultOrder": 41,
    "_isFastLaunch": false,
    "category": "Memory Optimized",
    "gpuNum": 0,
    "hideHardwareSpecs": false,
    "memoryGiB": 64,
    "name": "ml.r5.2xlarge",
    "vcpuNum": 8
   },
   {
    "_defaultOrder": 42,
    "_isFastLaunch": false,
    "category": "Memory Optimized",
    "gpuNum": 0,
    "hideHardwareSpecs": false,
    "memoryGiB": 128,
    "name": "ml.r5.4xlarge",
    "vcpuNum": 16
   },
   {
    "_defaultOrder": 43,
    "_isFastLaunch": false,
    "category": "Memory Optimized",
    "gpuNum": 0,
    "hideHardwareSpecs": false,
    "memoryGiB": 256,
    "name": "ml.r5.8xlarge",
    "vcpuNum": 32
   },
   {
    "_defaultOrder": 44,
    "_isFastLaunch": false,
    "category": "Memory Optimized",
    "gpuNum": 0,
    "hideHardwareSpecs": false,
    "memoryGiB": 384,
    "name": "ml.r5.12xlarge",
    "vcpuNum": 48
   },
   {
    "_defaultOrder": 45,
    "_isFastLaunch": false,
    "category": "Memory Optimized",
    "gpuNum": 0,
    "hideHardwareSpecs": false,
    "memoryGiB": 512,
    "name": "ml.r5.16xlarge",
    "vcpuNum": 64
   },
   {
    "_defaultOrder": 46,
    "_isFastLaunch": false,
    "category": "Memory Optimized",
    "gpuNum": 0,
    "hideHardwareSpecs": false,
    "memoryGiB": 768,
    "name": "ml.r5.24xlarge",
    "vcpuNum": 96
   },
   {
    "_defaultOrder": 47,
    "_isFastLaunch": false,
    "category": "Accelerated computing",
    "gpuNum": 1,
    "hideHardwareSpecs": false,
    "memoryGiB": 16,
    "name": "ml.g5.xlarge",
    "vcpuNum": 4
   },
   {
    "_defaultOrder": 48,
    "_isFastLaunch": false,
    "category": "Accelerated computing",
    "gpuNum": 1,
    "hideHardwareSpecs": false,
    "memoryGiB": 32,
    "name": "ml.g5.2xlarge",
    "vcpuNum": 8
   },
   {
    "_defaultOrder": 49,
    "_isFastLaunch": false,
    "category": "Accelerated computing",
    "gpuNum": 1,
    "hideHardwareSpecs": false,
    "memoryGiB": 64,
    "name": "ml.g5.4xlarge",
    "vcpuNum": 16
   },
   {
    "_defaultOrder": 50,
    "_isFastLaunch": false,
    "category": "Accelerated computing",
    "gpuNum": 1,
    "hideHardwareSpecs": false,
    "memoryGiB": 128,
    "name": "ml.g5.8xlarge",
    "vcpuNum": 32
   },
   {
    "_defaultOrder": 51,
    "_isFastLaunch": false,
    "category": "Accelerated computing",
    "gpuNum": 1,
    "hideHardwareSpecs": false,
    "memoryGiB": 256,
    "name": "ml.g5.16xlarge",
    "vcpuNum": 64
   },
   {
    "_defaultOrder": 52,
    "_isFastLaunch": false,
    "category": "Accelerated computing",
    "gpuNum": 4,
    "hideHardwareSpecs": false,
    "memoryGiB": 192,
    "name": "ml.g5.12xlarge",
    "vcpuNum": 48
   },
   {
    "_defaultOrder": 53,
    "_isFastLaunch": false,
    "category": "Accelerated computing",
    "gpuNum": 4,
    "hideHardwareSpecs": false,
    "memoryGiB": 384,
    "name": "ml.g5.24xlarge",
    "vcpuNum": 96
   },
   {
    "_defaultOrder": 54,
    "_isFastLaunch": false,
    "category": "Accelerated computing",
    "gpuNum": 8,
    "hideHardwareSpecs": false,
    "memoryGiB": 768,
    "name": "ml.g5.48xlarge",
    "vcpuNum": 192
   },
   {
    "_defaultOrder": 55,
    "_isFastLaunch": false,
    "category": "Accelerated computing",
    "gpuNum": 8,
    "hideHardwareSpecs": false,
    "memoryGiB": 1152,
    "name": "ml.p4d.24xlarge",
    "vcpuNum": 96
   },
   {
    "_defaultOrder": 56,
    "_isFastLaunch": false,
    "category": "Accelerated computing",
    "gpuNum": 8,
    "hideHardwareSpecs": false,
    "memoryGiB": 1152,
    "name": "ml.p4de.24xlarge",
    "vcpuNum": 96
   }
  ],
  "instance_type": "ml.t3.medium",
  "kernelspec": {
   "display_name": "Python 3 (Data Science)",
   "language": "python",
   "name": "python3__SAGEMAKER_INTERNAL__arn:aws:sagemaker:us-east-1:081325390199:image/datascience-1.0"
  },
  "language_info": {
   "codemirror_mode": {
    "name": "ipython",
    "version": 3
   },
   "file_extension": ".py",
   "mimetype": "text/x-python",
   "name": "python",
   "nbconvert_exporter": "python",
   "pygments_lexer": "ipython3",
   "version": "3.7.10"
  }
 },
 "nbformat": 4,
 "nbformat_minor": 5
}
